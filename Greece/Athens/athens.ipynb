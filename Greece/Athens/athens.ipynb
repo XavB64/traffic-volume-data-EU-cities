{
 "cells": [
  {
   "cell_type": "code",
   "execution_count": 7,
   "metadata": {},
   "outputs": [],
   "source": [
    "import pandas as pd\n",
    "import numpy as np"
   ]
  },
  {
   "cell_type": "code",
   "execution_count": 2,
   "metadata": {},
   "outputs": [],
   "source": [
    "df = pd.read_csv('raw/report_road_traffic_attica_2024-01-01_2024-01-27.csv')"
   ]
  },
  {
   "cell_type": "code",
   "execution_count": 9,
   "metadata": {},
   "outputs": [
    {
     "data": {
      "text/plain": [
       "(222054, 6)"
      ]
     },
     "execution_count": 9,
     "metadata": {},
     "output_type": "execute_result"
    }
   ],
   "source": [
    "df.shape"
   ]
  },
  {
   "cell_type": "code",
   "execution_count": 13,
   "metadata": {},
   "outputs": [
    {
     "data": {
      "text/plain": [
       "array(['2024-01-01 00:00:00', '2024-01-01 01:00:00',\n",
       "       '2024-01-01 02:00:00', '2024-01-01 03:00:00',\n",
       "       '2024-01-01 04:00:00', '2024-01-01 05:00:00',\n",
       "       '2024-01-01 06:00:00', '2024-01-01 07:00:00',\n",
       "       '2024-01-01 08:00:00', '2024-01-01 09:00:00',\n",
       "       '2024-01-01 10:00:00', '2024-01-01 11:00:00',\n",
       "       '2024-01-01 12:00:00', '2024-01-01 13:00:00',\n",
       "       '2024-01-01 14:00:00', '2024-01-01 15:00:00',\n",
       "       '2024-01-01 16:00:00', '2024-01-01 17:00:00',\n",
       "       '2024-01-01 18:00:00', '2024-01-01 19:00:00'], dtype=object)"
      ]
     },
     "execution_count": 13,
     "metadata": {},
     "output_type": "execute_result"
    }
   ],
   "source": [
    "np.sort(df.appprocesstime.unique())[:20]"
   ]
  },
  {
   "cell_type": "code",
   "execution_count": 12,
   "metadata": {},
   "outputs": [
    {
     "data": {
      "text/plain": [
       "380"
      ]
     },
     "execution_count": 12,
     "metadata": {},
     "output_type": "execute_result"
    }
   ],
   "source": [
    "df.deviceid.unique().size"
   ]
  }
 ],
 "metadata": {
  "kernelspec": {
   "display_name": "base",
   "language": "python",
   "name": "python3"
  },
  "language_info": {
   "codemirror_mode": {
    "name": "ipython",
    "version": 3
   },
   "file_extension": ".py",
   "mimetype": "text/x-python",
   "name": "python",
   "nbconvert_exporter": "python",
   "pygments_lexer": "ipython3",
   "version": "3.9.13"
  }
 },
 "nbformat": 4,
 "nbformat_minor": 2
}
