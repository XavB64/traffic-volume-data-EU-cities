{
 "cells": [
  {
   "cell_type": "markdown",
   "metadata": {},
   "source": [
    "# Librairies"
   ]
  },
  {
   "cell_type": "code",
   "execution_count": 1,
   "metadata": {},
   "outputs": [],
   "source": [
    "import pandas as pd\n",
    "import geopandas as gpd\n",
    "import numpy as np\n",
    "import matplotlib.pylab as plt"
   ]
  },
  {
   "cell_type": "markdown",
   "metadata": {},
   "source": [
    "# Load data"
   ]
  },
  {
   "cell_type": "raw",
   "metadata": {},
   "source": [
    "Car traffic flows in Malmö\n",
    "The purpose of this report is to report current traffic volumes on the streets of Malmö. \n",
    "At the same time, changes over time should be able to be read in the report in a simple way. Data on traffic volumes have been collected by the City of Malmö from 1967.\n",
    "\n",
    "It is important to keep in mind that there are factors that can have an impact on the measurement results when traffic \n",
    "flows are studied (e.g. roadworks, movement of local buses, major redevelopments, speed changes and the introduction of traffic damping measures).\n",
    "Traffic flows have also been affected by the COVID-19 pandemic, especially data from 2020.\n",
    "\n",
    "The report is an extract compiled from the Property and Street Office’s traffic database in which measured traffic volumes have been \n",
    "continuously stored every year. "
   ]
  },
  {
   "cell_type": "code",
   "execution_count": 2,
   "metadata": {},
   "outputs": [],
   "source": [
    "gdf = gpd.read_file('raw/Trafikmätning_för_biltrafik_mätplatser.geojson')"
   ]
  },
  {
   "cell_type": "code",
   "execution_count": 3,
   "metadata": {},
   "outputs": [
    {
     "data": {
      "text/plain": [
       "Index(['pg_id', 'pg_nummer', 'gatunamn', 'delsträcka', 'rikt_1', 'rikt_2',\n",
       "       'punkt_uppdaterat', 'year', 'mvd', 'max_fm', 'max_em', 'andel_tung',\n",
       "       'medelhast', 'stats_uppdaterat', 'timestamp', 'ogc_fid', 'geometry'],\n",
       "      dtype='object')"
      ]
     },
     "execution_count": 3,
     "metadata": {},
     "output_type": "execute_result"
    }
   ],
   "source": [
    "gdf.columns"
   ]
  },
  {
   "cell_type": "code",
   "execution_count": 4,
   "metadata": {},
   "outputs": [],
   "source": [
    "# translation to english\n",
    "attributes_translation = [\n",
    "    \"pg_id\",                # Unique identifier for each measurement location\n",
    "    \"pg_number\",            # Identifier for the measurement point's position\n",
    "    \"street_name\",          # Street where the measurement was conducted\n",
    "    \"segment\",              # Position where the measurement was conducted\n",
    "    \"direction_1\",          # Traffic direction included in the measurement\n",
    "    \"direction_2\",          # Other traffic direction included in the measurement\n",
    "    \"point_updated\",        # Last update of the measurement point information and/or geometry\n",
    "    \"year\",                 # Measurement year\n",
    "    \"aadt\",                 # Average daily traffic. Average traffic during everyday life for a given period of time \n",
    "                            # for all motor vehicles in both directions. The average is calculated based on the measurements \n",
    "                            # for the days Tuesday-To Thursday, weekend and commendation-free days.\n",
    "    \"max_am\",               # Motor vehicles/hour during the morning peak hour\n",
    "    \"max_pm\",               # Motor vehicles/hour during the afternoon peak hour\n",
    "    \"heavy_share\",          # Motor vehicles over 3.5 tons as a percentage of total traffic, Applies to traffic in both directions.\n",
    "    \"avg_speed\",            # Average speed of total traffic,  Applies to traffic in both directions.\n",
    "    \"stats_updated\",        # Last update of statistical values; could be adjustments to previously published figures or new data\n",
    "    \"timestamp\" ,            # Last update date of the traffic measurement objects\n",
    "    \"ogc_fid\",\n",
    "    \"geometry\",             # Type: MultiLineString, CRS: WGS84\n",
    "\n",
    "]\n"
   ]
  },
  {
   "cell_type": "code",
   "execution_count": 5,
   "metadata": {},
   "outputs": [],
   "source": [
    "gdf.columns = attributes_translation"
   ]
  },
  {
   "cell_type": "code",
   "execution_count": 11,
   "metadata": {},
   "outputs": [
    {
     "data": {
      "text/plain": [
       "year\n",
       "2015    166\n",
       "2016    166\n",
       "2017    207\n",
       "2018    223\n",
       "2019    247\n",
       "2020     81\n",
       "2021    218\n",
       "2022    208\n",
       "2023    221\n",
       "2024    228\n",
       "Name: count, dtype: int64"
      ]
     },
     "execution_count": 11,
     "metadata": {},
     "output_type": "execute_result"
    }
   ],
   "source": [
    "gdf.year.value_counts().sort_index()[-10:]"
   ]
  },
  {
   "cell_type": "code",
   "execution_count": 15,
   "metadata": {},
   "outputs": [
    {
     "data": {
      "text/plain": [
       "0"
      ]
     },
     "execution_count": 15,
     "metadata": {},
     "output_type": "execute_result"
    }
   ],
   "source": [
    "gdf[['pg_id', 'year']].duplicated().sum()"
   ]
  },
  {
   "cell_type": "code",
   "execution_count": 23,
   "metadata": {},
   "outputs": [
    {
     "data": {
      "text/plain": [
       "True"
      ]
     },
     "execution_count": 23,
     "metadata": {},
     "output_type": "execute_result"
    }
   ],
   "source": [
    "# Every measure seems to be both direction\n",
    "gdf.direction_1.isna().sum() == gdf.direction_2.isna().sum() == 0"
   ]
  },
  {
   "cell_type": "markdown",
   "metadata": {},
   "source": [
    "# Map matching with OSM"
   ]
  },
  {
   "cell_type": "code",
   "execution_count": 25,
   "metadata": {},
   "outputs": [],
   "source": [
    "# reduce the number of points to compute\n",
    "gdf_unique = gdf[gdf.year >=2015].drop_duplicates(subset = ['pg_id'])"
   ]
  },
  {
   "cell_type": "code",
   "execution_count": 26,
   "metadata": {},
   "outputs": [],
   "source": [
    "# The Multilinestring geometries are \"sections\" i.e. they are perpendicular to the road they monitor\n",
    "# If we want to avoid creating linestrings with the wrong direction, we could still use the point matching technique taking the centroid\n",
    "gdf_unique['geometry'] = gdf_unique.geometry.apply(lambda x : x.centroid)"
   ]
  },
  {
   "cell_type": "code",
   "execution_count": 27,
   "metadata": {},
   "outputs": [],
   "source": [
    "import sys\n",
    "from pathlib import Path\n",
    "\n",
    "# Add the ../assets directory to sys.path\n",
    "sys.path.append(str(Path(\"../../assets\").resolve()))\n",
    "\n",
    "from map_matching_OSM import points_matching"
   ]
  },
  {
   "cell_type": "code",
   "execution_count": 28,
   "metadata": {},
   "outputs": [
    {
     "data": {
      "text/plain": [
       "(759, 17)"
      ]
     },
     "execution_count": 28,
     "metadata": {},
     "output_type": "execute_result"
    }
   ],
   "source": [
    "gdf_unique.shape"
   ]
  },
  {
   "cell_type": "code",
   "execution_count": 29,
   "metadata": {},
   "outputs": [
    {
     "name": "stdout",
     "output_type": "stream",
     "text": [
      "City downloaded\n"
     ]
    },
    {
     "name": "stderr",
     "output_type": "stream",
     "text": [
      " 18%|█▊        | 137/759 [00:00<00:02, 212.18it/s]"
     ]
    },
    {
     "name": "stdout",
     "output_type": "stream",
     "text": [
      "Value Error - No roads found nearby current index\n"
     ]
    },
    {
     "name": "stderr",
     "output_type": "stream",
     "text": [
      " 47%|████▋     | 355/759 [00:01<00:02, 200.65it/s]"
     ]
    },
    {
     "name": "stdout",
     "output_type": "stream",
     "text": [
      "Value Error - No roads found nearby current index\n"
     ]
    },
    {
     "name": "stderr",
     "output_type": "stream",
     "text": [
      " 69%|██████▉   | 522/759 [00:02<00:01, 231.90it/s]"
     ]
    },
    {
     "name": "stdout",
     "output_type": "stream",
     "text": [
      "Value Error - No roads found nearby current index\n"
     ]
    },
    {
     "name": "stderr",
     "output_type": "stream",
     "text": [
      " 78%|███████▊  | 594/759 [00:02<00:00, 217.61it/s]"
     ]
    },
    {
     "name": "stdout",
     "output_type": "stream",
     "text": [
      "Value Error - No roads found nearby current index\n",
      "Value Error - No roads found nearby current index\n"
     ]
    },
    {
     "name": "stderr",
     "output_type": "stream",
     "text": [
      " 97%|█████████▋| 735/759 [00:03<00:00, 224.63it/s]"
     ]
    },
    {
     "name": "stdout",
     "output_type": "stream",
     "text": [
      "Value Error - No roads found nearby current index\n",
      "Value Error - No roads found nearby current index\n",
      "Value Error - No roads found nearby current index\n",
      "Value Error - No roads found nearby current index\n"
     ]
    },
    {
     "name": "stderr",
     "output_type": "stream",
     "text": [
      "100%|██████████| 759/759 [00:03<00:00, 216.11it/s]"
     ]
    },
    {
     "name": "stdout",
     "output_type": "stream",
     "text": [
      "We failed to match 9 sensors\n",
      "...on a total of 759 sensors\n"
     ]
    },
    {
     "name": "stderr",
     "output_type": "stream",
     "text": [
      "\n"
     ]
    }
   ],
   "source": [
    "# 17min\n",
    "gdf_unique = points_matching(gdf_unique)"
   ]
  },
  {
   "cell_type": "code",
   "execution_count": 30,
   "metadata": {},
   "outputs": [
    {
     "data": {
      "text/html": [
       "<div>\n",
       "<style scoped>\n",
       "    .dataframe tbody tr th:only-of-type {\n",
       "        vertical-align: middle;\n",
       "    }\n",
       "\n",
       "    .dataframe tbody tr th {\n",
       "        vertical-align: top;\n",
       "    }\n",
       "\n",
       "    .dataframe thead th {\n",
       "        text-align: right;\n",
       "    }\n",
       "</style>\n",
       "<table border=\"1\" class=\"dataframe\">\n",
       "  <thead>\n",
       "    <tr style=\"text-align: right;\">\n",
       "      <th></th>\n",
       "      <th>street_name</th>\n",
       "      <th>osm_name</th>\n",
       "    </tr>\n",
       "  </thead>\n",
       "  <tbody>\n",
       "    <tr>\n",
       "      <th>0</th>\n",
       "      <td>STORMGATAN</td>\n",
       "      <td>Stormgatan</td>\n",
       "    </tr>\n",
       "    <tr>\n",
       "      <th>1</th>\n",
       "      <td>SCHOUGENS BRO</td>\n",
       "      <td>Schougens bro</td>\n",
       "    </tr>\n",
       "    <tr>\n",
       "      <th>2</th>\n",
       "      <td>ÖSTERLENVÄGEN</td>\n",
       "      <td>Österlenvägen</td>\n",
       "    </tr>\n",
       "    <tr>\n",
       "      <th>3</th>\n",
       "      <td>SALLERUPSVÄGEN</td>\n",
       "      <td>Malmövägen</td>\n",
       "    </tr>\n",
       "    <tr>\n",
       "      <th>4</th>\n",
       "      <td>KLAGSTORPSVÄGEN</td>\n",
       "      <td>Klagstorpsvägen</td>\n",
       "    </tr>\n",
       "    <tr>\n",
       "      <th>...</th>\n",
       "      <td>...</td>\n",
       "      <td>...</td>\n",
       "    </tr>\n",
       "    <tr>\n",
       "      <th>1837</th>\n",
       "      <td>KALKSTENSVÄGEN</td>\n",
       "      <td>Kalkstensvägen</td>\n",
       "    </tr>\n",
       "    <tr>\n",
       "      <th>1874</th>\n",
       "      <td>SIMRISBANVÄGEN</td>\n",
       "      <td>Simrisbanvägen</td>\n",
       "    </tr>\n",
       "    <tr>\n",
       "      <th>1887</th>\n",
       "      <td>NORRA SKOLGATAN</td>\n",
       "      <td>Norra Skolgatan</td>\n",
       "    </tr>\n",
       "    <tr>\n",
       "      <th>1941</th>\n",
       "      <td>ÖSTRA FÄLADSGATAN</td>\n",
       "      <td>Östra Fäladsgatan</td>\n",
       "    </tr>\n",
       "    <tr>\n",
       "      <th>1951</th>\n",
       "      <td>LIMSTENSGATAN</td>\n",
       "      <td>Limstensgatan</td>\n",
       "    </tr>\n",
       "  </tbody>\n",
       "</table>\n",
       "<p>347 rows × 2 columns</p>\n",
       "</div>"
      ],
      "text/plain": [
       "            street_name           osm_name\n",
       "0            STORMGATAN         Stormgatan\n",
       "1         SCHOUGENS BRO      Schougens bro\n",
       "2         ÖSTERLENVÄGEN      Österlenvägen\n",
       "3        SALLERUPSVÄGEN         Malmövägen\n",
       "4       KLAGSTORPSVÄGEN    Klagstorpsvägen\n",
       "...                 ...                ...\n",
       "1837     KALKSTENSVÄGEN     Kalkstensvägen\n",
       "1874     SIMRISBANVÄGEN     Simrisbanvägen\n",
       "1887    NORRA SKOLGATAN    Norra Skolgatan\n",
       "1941  ÖSTRA FÄLADSGATAN  Östra Fäladsgatan\n",
       "1951      LIMSTENSGATAN      Limstensgatan\n",
       "\n",
       "[347 rows x 2 columns]"
      ]
     },
     "execution_count": 30,
     "metadata": {},
     "output_type": "execute_result"
    }
   ],
   "source": [
    "gdf_unique[['street_name', 'osm_name']].drop_duplicates().dropna()"
   ]
  },
  {
   "cell_type": "code",
   "execution_count": 31,
   "metadata": {},
   "outputs": [],
   "source": [
    "# Add OSM attributes to main dataframe\n",
    "gdf = gdf[gdf.year >=2015].set_index('pg_id').drop('geometry', axis = 1).join(\n",
    "    gdf_unique.set_index('pg_id')[['osm_name', 'osm_type', 'osm_lanes', 'osm_oneway', 'osm_distance', 'osmid', 'geometry']],\n",
    "    how = 'inner'\n",
    ")"
   ]
  },
  {
   "cell_type": "code",
   "execution_count": 32,
   "metadata": {},
   "outputs": [
    {
     "data": {
      "text/plain": [
       "(1965, 22)"
      ]
     },
     "execution_count": 32,
     "metadata": {},
     "output_type": "execute_result"
    }
   ],
   "source": [
    "gdf[gdf.year >=2015].shape"
   ]
  },
  {
   "cell_type": "code",
   "execution_count": 33,
   "metadata": {},
   "outputs": [
    {
     "data": {
      "text/plain": [
       "Index(['pg_number', 'street_name', 'segment', 'direction_1', 'direction_2',\n",
       "       'point_updated', 'year', 'aadt', 'max_am', 'max_pm', 'heavy_share',\n",
       "       'avg_speed', 'stats_updated', 'timestamp', 'ogc_fid', 'osm_name',\n",
       "       'osm_type', 'osm_lanes', 'osm_oneway', 'osm_distance', 'osmid',\n",
       "       'geometry'],\n",
       "      dtype='object')"
      ]
     },
     "execution_count": 33,
     "metadata": {},
     "output_type": "execute_result"
    }
   ],
   "source": [
    "gdf.columns"
   ]
  },
  {
   "cell_type": "code",
   "execution_count": 34,
   "metadata": {},
   "outputs": [],
   "source": [
    "gdf.rename(columns = \n",
    "           {\n",
    "               'street_name':'raw_name',\n",
    "               'aadt':'AADT',\n",
    "               'heavy_share':'TR_pct_AADT'\n",
    "           }, inplace=True)"
   ]
  },
  {
   "cell_type": "code",
   "execution_count": 35,
   "metadata": {},
   "outputs": [],
   "source": [
    "gdf = gpd.GeoDataFrame(\n",
    "    gdf, \n",
    "    geometry = 'geometry',\n",
    "    crs = 'epsg:4326'\n",
    ")"
   ]
  },
  {
   "cell_type": "code",
   "execution_count": 36,
   "metadata": {},
   "outputs": [],
   "source": [
    "gdf['raw_oneway'] = False"
   ]
  },
  {
   "cell_type": "markdown",
   "metadata": {},
   "source": [
    "# Final saving"
   ]
  },
  {
   "cell_type": "code",
   "execution_count": 37,
   "metadata": {},
   "outputs": [
    {
     "name": "stdout",
     "output_type": "stream",
     "text": [
      "2015 166\n",
      "2016 166\n",
      "2017 207\n",
      "2018 223\n",
      "2019 247\n",
      "2020 81\n",
      "2021 218\n",
      "2022 208\n",
      "2023 221\n",
      "2024 228\n"
     ]
    }
   ],
   "source": [
    "# Saving\n",
    "for year in range(2015, 2025): # gdf.year.unique():\n",
    "    # Extract corresponding year\n",
    "    sub = gdf[gdf.year == year]\n",
    "    print(year, sub.shape[0])\n",
    "    sub[[\n",
    "        'AADT', 'TR_pct_AADT', 'geometry', \n",
    "        'raw_name', 'raw_oneway', 'osm_name', 'osm_type', 'osm_lanes', 'osm_oneway', 'osm_distance', 'osmid'\n",
    "        ]].to_file(f'treated/Malmo_AADT_{year}.geojson', index=False)"
   ]
  }
 ],
 "metadata": {
  "kernelspec": {
   "display_name": "geodata",
   "language": "python",
   "name": "python3"
  },
  "language_info": {
   "codemirror_mode": {
    "name": "ipython",
    "version": 3
   },
   "file_extension": ".py",
   "mimetype": "text/x-python",
   "name": "python",
   "nbconvert_exporter": "python",
   "pygments_lexer": "ipython3",
   "version": "3.12.8"
  }
 },
 "nbformat": 4,
 "nbformat_minor": 2
}
