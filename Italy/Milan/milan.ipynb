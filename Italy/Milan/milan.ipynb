{
 "cells": [
  {
   "cell_type": "markdown",
   "metadata": {},
   "source": [
    "# Librairies"
   ]
  },
  {
   "cell_type": "code",
   "execution_count": 1,
   "metadata": {},
   "outputs": [],
   "source": [
    "import pandas as pd \n",
    "import geopandas as gpd\n",
    "import matplotlib.pylab as plt\n",
    "import numpy as np\n",
    "import zipfile\n",
    "from tqdm import tqdm\n",
    "import os"
   ]
  },
  {
   "cell_type": "markdown",
   "metadata": {},
   "source": [
    "# Load Traffic Data"
   ]
  },
  {
   "cell_type": "code",
   "execution_count": 2,
   "metadata": {},
   "outputs": [
    {
     "data": {
      "text/plain": [
       "['ds2710_ingressi_areac_2024_01.zip',\n",
       " 'ds2726_ingressi_areac_2024_02.zip',\n",
       " 'ds2730_ingressi_areac_2024_03.zip',\n",
       " 'ds2793_ingressi_areac_2024_04.zip',\n",
       " 'ds2794_ingressi_areac_2024_05.zip',\n",
       " 'ds2801_ingressi_areac_2024_06.zip',\n",
       " 'ds2825_ingressi_areac_2024_07.zip',\n",
       " 'ds2826_ingressi_areac_2024_08.zip',\n",
       " 'ds2850_ingressi_areac_2024_09.zip',\n",
       " 'ingressi_areac_varchi_shp']"
      ]
     },
     "execution_count": 2,
     "metadata": {},
     "output_type": "execute_result"
    }
   ],
   "source": [
    "os.listdir('raw/')"
   ]
  },
  {
   "cell_type": "code",
   "execution_count": 3,
   "metadata": {},
   "outputs": [
    {
     "name": "stderr",
     "output_type": "stream",
     "text": [
      "100%|██████████| 10/10 [00:07<00:00,  1.41it/s]\n"
     ]
    }
   ],
   "source": [
    "# Open the gzip-compressed file\n",
    "l_df = []\n",
    "\n",
    "for filename in tqdm(os.listdir('raw/')):\n",
    "    \n",
    "    if filename[-4:] == '.zip':\n",
    "    \n",
    "        month = filename[-6:-4]\n",
    "        filename2 = f'ingressi_areac_2024_{month}'\n",
    "\n",
    "        with zipfile.ZipFile(f'raw/{filename}', 'r') as z:\n",
    "            with z.open(filename2 + '.csv') as f :\n",
    "                l_df.append(pd.read_csv(f))\n",
    "df = pd.concat(l_df)\n",
    "l_df = None\n",
    "            "
   ]
  },
  {
   "cell_type": "code",
   "execution_count": 4,
   "metadata": {},
   "outputs": [
    {
     "data": {
      "text/plain": [
       "Index(['dataora', 'id_varco', 'esenti', 'moto', 'residenti',\n",
       "       'veicoli_servizio', 'categoria_euro', 'tipologia_alimentazione',\n",
       "       'categoria_veicolo', 'classe_areac', 'fap', 'areac', 'numero_transiti'],\n",
       "      dtype='object')"
      ]
     },
     "execution_count": 4,
     "metadata": {},
     "output_type": "execute_result"
    }
   ],
   "source": [
    "df.columns"
   ]
  },
  {
   "cell_type": "code",
   "execution_count": 5,
   "metadata": {},
   "outputs": [],
   "source": [
    "df.columns = [\n",
    "    'datetime', 'checkpoint_id', 'exempt', 'motorcycles', 'residents',\n",
    "    'service_vehicles', 'euro_category', 'fuel_type', \n",
    "    'vehicle_category', 'areac_class', 'particle_filter', 'areac_zone', \n",
    "    'number_of_transits'\n",
    "]"
   ]
  },
  {
   "cell_type": "code",
   "execution_count": 6,
   "metadata": {},
   "outputs": [],
   "source": [
    "df.datetime = pd.to_datetime(df.datetime.apply(lambda x : x[:-3]), format = '%Y-%m-%d %H:%M:%S', utc = False)\n",
    "#df.datetime = pd.to_datetime(df.datetime).dt.tz_localize(None)"
   ]
  },
  {
   "cell_type": "code",
   "execution_count": 7,
   "metadata": {},
   "outputs": [
    {
     "data": {
      "text/plain": [
       "40"
      ]
     },
     "execution_count": 7,
     "metadata": {},
     "output_type": "execute_result"
    }
   ],
   "source": [
    "df.checkpoint_id.unique().size"
   ]
  },
  {
   "cell_type": "code",
   "execution_count": 8,
   "metadata": {},
   "outputs": [
    {
     "data": {
      "text/plain": [
       "<DatetimeArray>\n",
       "['2024-01-01 00:00:00', '2024-01-01 00:30:00', '2024-01-01 01:00:00',\n",
       " '2024-01-01 01:30:00', '2024-01-01 02:00:00', '2024-01-01 02:30:00',\n",
       " '2024-01-01 03:00:00', '2024-01-01 03:30:00', '2024-01-01 04:00:00',\n",
       " '2024-01-01 04:30:00',\n",
       " ...\n",
       " '2024-09-30 19:00:00', '2024-09-30 19:30:00', '2024-09-30 20:00:00',\n",
       " '2024-09-30 20:30:00', '2024-09-30 21:00:00', '2024-09-30 21:30:00',\n",
       " '2024-09-30 22:00:00', '2024-09-30 22:30:00', '2024-09-30 23:00:00',\n",
       " '2024-09-30 23:30:00']\n",
       "Length: 13150, dtype: datetime64[ns]"
      ]
     },
     "execution_count": 8,
     "metadata": {},
     "output_type": "execute_result"
    }
   ],
   "source": [
    "# 30min frequency\n",
    "df.datetime.unique()"
   ]
  },
  {
   "cell_type": "code",
   "execution_count": 9,
   "metadata": {},
   "outputs": [
    {
     "data": {
      "text/plain": [
       "73"
      ]
     },
     "execution_count": 9,
     "metadata": {},
     "output_type": "execute_result"
    }
   ],
   "source": [
    "df[((df.datetime == '2024-01-01 02:00:00') | (df.datetime == '2024-01-01 02:30:00') )& (df.checkpoint_id == 57)].number_of_transits.sum()"
   ]
  },
  {
   "cell_type": "code",
   "execution_count": 10,
   "metadata": {},
   "outputs": [],
   "source": [
    "# resample it to hourly \n",
    "# We have no metadata to interpret the other columns\n",
    "df = df.set_index(['checkpoint_id', 'datetime'])[['number_of_transits']].groupby(\"checkpoint_id\").resample(\"h\", level=\"datetime\").sum()"
   ]
  },
  {
   "cell_type": "code",
   "execution_count": 11,
   "metadata": {},
   "outputs": [
    {
     "data": {
      "text/html": [
       "<div>\n",
       "<style scoped>\n",
       "    .dataframe tbody tr th:only-of-type {\n",
       "        vertical-align: middle;\n",
       "    }\n",
       "\n",
       "    .dataframe tbody tr th {\n",
       "        vertical-align: top;\n",
       "    }\n",
       "\n",
       "    .dataframe thead th {\n",
       "        text-align: right;\n",
       "    }\n",
       "</style>\n",
       "<table border=\"1\" class=\"dataframe\">\n",
       "  <thead>\n",
       "    <tr style=\"text-align: right;\">\n",
       "      <th></th>\n",
       "      <th></th>\n",
       "      <th>number_of_transits</th>\n",
       "    </tr>\n",
       "    <tr>\n",
       "      <th>checkpoint_id</th>\n",
       "      <th>datetime</th>\n",
       "      <th></th>\n",
       "    </tr>\n",
       "  </thead>\n",
       "  <tbody>\n",
       "    <tr>\n",
       "      <th rowspan=\"5\" valign=\"top\">57</th>\n",
       "      <th>2024-01-01 00:00:00</th>\n",
       "      <td>45</td>\n",
       "    </tr>\n",
       "    <tr>\n",
       "      <th>2024-01-01 01:00:00</th>\n",
       "      <td>96</td>\n",
       "    </tr>\n",
       "    <tr>\n",
       "      <th>2024-01-01 02:00:00</th>\n",
       "      <td>73</td>\n",
       "    </tr>\n",
       "    <tr>\n",
       "      <th>2024-01-01 03:00:00</th>\n",
       "      <td>46</td>\n",
       "    </tr>\n",
       "    <tr>\n",
       "      <th>2024-01-01 04:00:00</th>\n",
       "      <td>26</td>\n",
       "    </tr>\n",
       "    <tr>\n",
       "      <th>...</th>\n",
       "      <th>...</th>\n",
       "      <td>...</td>\n",
       "    </tr>\n",
       "    <tr>\n",
       "      <th rowspan=\"5\" valign=\"top\">98</th>\n",
       "      <th>2024-09-30 19:00:00</th>\n",
       "      <td>365</td>\n",
       "    </tr>\n",
       "    <tr>\n",
       "      <th>2024-09-30 20:00:00</th>\n",
       "      <td>292</td>\n",
       "    </tr>\n",
       "    <tr>\n",
       "      <th>2024-09-30 21:00:00</th>\n",
       "      <td>163</td>\n",
       "    </tr>\n",
       "    <tr>\n",
       "      <th>2024-09-30 22:00:00</th>\n",
       "      <td>159</td>\n",
       "    </tr>\n",
       "    <tr>\n",
       "      <th>2024-09-30 23:00:00</th>\n",
       "      <td>143</td>\n",
       "    </tr>\n",
       "  </tbody>\n",
       "</table>\n",
       "<p>263040 rows × 1 columns</p>\n",
       "</div>"
      ],
      "text/plain": [
       "                                   number_of_transits\n",
       "checkpoint_id datetime                               \n",
       "57            2024-01-01 00:00:00                  45\n",
       "              2024-01-01 01:00:00                  96\n",
       "              2024-01-01 02:00:00                  73\n",
       "              2024-01-01 03:00:00                  46\n",
       "              2024-01-01 04:00:00                  26\n",
       "...                                               ...\n",
       "98            2024-09-30 19:00:00                 365\n",
       "              2024-09-30 20:00:00                 292\n",
       "              2024-09-30 21:00:00                 163\n",
       "              2024-09-30 22:00:00                 159\n",
       "              2024-09-30 23:00:00                 143\n",
       "\n",
       "[263040 rows x 1 columns]"
      ]
     },
     "execution_count": 11,
     "metadata": {},
     "output_type": "execute_result"
    }
   ],
   "source": [
    "df"
   ]
  },
  {
   "cell_type": "code",
   "execution_count": 12,
   "metadata": {},
   "outputs": [],
   "source": [
    "import sys\n",
    "from pathlib import Path\n",
    "\n",
    "# Add the ../assets directory to sys.path\n",
    "sys.path.append(str(Path(\"../../assets\").resolve()))\n",
    "\n",
    "from temporal_agg import hourly_to_aadt"
   ]
  },
  {
   "cell_type": "code",
   "execution_count": 13,
   "metadata": {},
   "outputs": [],
   "source": [
    "df = hourly_to_aadt(df, 'checkpoint_id', 'datetime', ['number_of_transits'])"
   ]
  },
  {
   "cell_type": "code",
   "execution_count": 14,
   "metadata": {},
   "outputs": [],
   "source": [
    "df.columns = ['AADT', 'AAWT']"
   ]
  },
  {
   "cell_type": "code",
   "execution_count": 15,
   "metadata": {},
   "outputs": [
    {
     "data": {
      "text/html": [
       "<div>\n",
       "<style scoped>\n",
       "    .dataframe tbody tr th:only-of-type {\n",
       "        vertical-align: middle;\n",
       "    }\n",
       "\n",
       "    .dataframe tbody tr th {\n",
       "        vertical-align: top;\n",
       "    }\n",
       "\n",
       "    .dataframe thead th {\n",
       "        text-align: right;\n",
       "    }\n",
       "</style>\n",
       "<table border=\"1\" class=\"dataframe\">\n",
       "  <thead>\n",
       "    <tr style=\"text-align: right;\">\n",
       "      <th></th>\n",
       "      <th>AADT</th>\n",
       "      <th>AAWT</th>\n",
       "    </tr>\n",
       "    <tr>\n",
       "      <th>id_amat</th>\n",
       "      <th></th>\n",
       "      <th></th>\n",
       "    </tr>\n",
       "  </thead>\n",
       "  <tbody>\n",
       "    <tr>\n",
       "      <th>57</th>\n",
       "      <td>4221.368613</td>\n",
       "      <td>4531.392857</td>\n",
       "    </tr>\n",
       "    <tr>\n",
       "      <th>58</th>\n",
       "      <td>5305.109489</td>\n",
       "      <td>5629.275510</td>\n",
       "    </tr>\n",
       "    <tr>\n",
       "      <th>59</th>\n",
       "      <td>961.127737</td>\n",
       "      <td>1002.428571</td>\n",
       "    </tr>\n",
       "    <tr>\n",
       "      <th>60</th>\n",
       "      <td>3035.032847</td>\n",
       "      <td>3132.653061</td>\n",
       "    </tr>\n",
       "    <tr>\n",
       "      <th>61</th>\n",
       "      <td>518.000000</td>\n",
       "      <td>542.724490</td>\n",
       "    </tr>\n",
       "    <tr>\n",
       "      <th>62</th>\n",
       "      <td>245.463504</td>\n",
       "      <td>246.280612</td>\n",
       "    </tr>\n",
       "    <tr>\n",
       "      <th>63</th>\n",
       "      <td>2556.094891</td>\n",
       "      <td>2750.188776</td>\n",
       "    </tr>\n",
       "    <tr>\n",
       "      <th>64</th>\n",
       "      <td>9603.583942</td>\n",
       "      <td>10411.775510</td>\n",
       "    </tr>\n",
       "    <tr>\n",
       "      <th>65</th>\n",
       "      <td>8027.777372</td>\n",
       "      <td>8467.520408</td>\n",
       "    </tr>\n",
       "    <tr>\n",
       "      <th>66</th>\n",
       "      <td>281.364964</td>\n",
       "      <td>321.602041</td>\n",
       "    </tr>\n",
       "    <tr>\n",
       "      <th>67</th>\n",
       "      <td>2412.047445</td>\n",
       "      <td>2758.229592</td>\n",
       "    </tr>\n",
       "    <tr>\n",
       "      <th>68</th>\n",
       "      <td>305.737226</td>\n",
       "      <td>346.806122</td>\n",
       "    </tr>\n",
       "    <tr>\n",
       "      <th>69</th>\n",
       "      <td>2977.448905</td>\n",
       "      <td>3185.015306</td>\n",
       "    </tr>\n",
       "    <tr>\n",
       "      <th>70</th>\n",
       "      <td>1490.434307</td>\n",
       "      <td>1694.571429</td>\n",
       "    </tr>\n",
       "    <tr>\n",
       "      <th>71</th>\n",
       "      <td>6826.379562</td>\n",
       "      <td>7243.857143</td>\n",
       "    </tr>\n",
       "    <tr>\n",
       "      <th>72</th>\n",
       "      <td>4861.711679</td>\n",
       "      <td>5533.928571</td>\n",
       "    </tr>\n",
       "    <tr>\n",
       "      <th>73</th>\n",
       "      <td>637.000000</td>\n",
       "      <td>743.239796</td>\n",
       "    </tr>\n",
       "    <tr>\n",
       "      <th>74</th>\n",
       "      <td>1788.142336</td>\n",
       "      <td>1901.193878</td>\n",
       "    </tr>\n",
       "    <tr>\n",
       "      <th>75</th>\n",
       "      <td>3857.120438</td>\n",
       "      <td>4014.505102</td>\n",
       "    </tr>\n",
       "    <tr>\n",
       "      <th>76</th>\n",
       "      <td>1902.974453</td>\n",
       "      <td>1991.658163</td>\n",
       "    </tr>\n",
       "    <tr>\n",
       "      <th>77</th>\n",
       "      <td>897.565693</td>\n",
       "      <td>1043.607143</td>\n",
       "    </tr>\n",
       "    <tr>\n",
       "      <th>78</th>\n",
       "      <td>2113.635036</td>\n",
       "      <td>2325.959184</td>\n",
       "    </tr>\n",
       "    <tr>\n",
       "      <th>79</th>\n",
       "      <td>311.281022</td>\n",
       "      <td>331.163265</td>\n",
       "    </tr>\n",
       "    <tr>\n",
       "      <th>80</th>\n",
       "      <td>1660.142336</td>\n",
       "      <td>1898.234694</td>\n",
       "    </tr>\n",
       "    <tr>\n",
       "      <th>81</th>\n",
       "      <td>5085.164234</td>\n",
       "      <td>5244.071429</td>\n",
       "    </tr>\n",
       "    <tr>\n",
       "      <th>82</th>\n",
       "      <td>718.222628</td>\n",
       "      <td>737.729592</td>\n",
       "    </tr>\n",
       "    <tr>\n",
       "      <th>83</th>\n",
       "      <td>1823.806569</td>\n",
       "      <td>1881.637755</td>\n",
       "    </tr>\n",
       "    <tr>\n",
       "      <th>84</th>\n",
       "      <td>598.029197</td>\n",
       "      <td>622.030612</td>\n",
       "    </tr>\n",
       "    <tr>\n",
       "      <th>85</th>\n",
       "      <td>5957.178832</td>\n",
       "      <td>6016.862245</td>\n",
       "    </tr>\n",
       "    <tr>\n",
       "      <th>86</th>\n",
       "      <td>3428.795620</td>\n",
       "      <td>3670.408163</td>\n",
       "    </tr>\n",
       "    <tr>\n",
       "      <th>88</th>\n",
       "      <td>999.131387</td>\n",
       "      <td>1045.520408</td>\n",
       "    </tr>\n",
       "    <tr>\n",
       "      <th>90</th>\n",
       "      <td>653.233577</td>\n",
       "      <td>742.229592</td>\n",
       "    </tr>\n",
       "    <tr>\n",
       "      <th>91</th>\n",
       "      <td>2598.018248</td>\n",
       "      <td>2869.994898</td>\n",
       "    </tr>\n",
       "    <tr>\n",
       "      <th>92</th>\n",
       "      <td>2508.354015</td>\n",
       "      <td>2817.198980</td>\n",
       "    </tr>\n",
       "    <tr>\n",
       "      <th>93</th>\n",
       "      <td>5695.740876</td>\n",
       "      <td>5783.193878</td>\n",
       "    </tr>\n",
       "    <tr>\n",
       "      <th>94</th>\n",
       "      <td>1991.872263</td>\n",
       "      <td>2008.173469</td>\n",
       "    </tr>\n",
       "    <tr>\n",
       "      <th>95</th>\n",
       "      <td>2419.124088</td>\n",
       "      <td>2419.015306</td>\n",
       "    </tr>\n",
       "    <tr>\n",
       "      <th>96</th>\n",
       "      <td>5761.036496</td>\n",
       "      <td>5844.311224</td>\n",
       "    </tr>\n",
       "    <tr>\n",
       "      <th>97</th>\n",
       "      <td>3063.135036</td>\n",
       "      <td>3303.066327</td>\n",
       "    </tr>\n",
       "    <tr>\n",
       "      <th>98</th>\n",
       "      <td>6052.262774</td>\n",
       "      <td>6484.933673</td>\n",
       "    </tr>\n",
       "  </tbody>\n",
       "</table>\n",
       "</div>"
      ],
      "text/plain": [
       "                AADT          AAWT\n",
       "id_amat                           \n",
       "57       4221.368613   4531.392857\n",
       "58       5305.109489   5629.275510\n",
       "59        961.127737   1002.428571\n",
       "60       3035.032847   3132.653061\n",
       "61        518.000000    542.724490\n",
       "62        245.463504    246.280612\n",
       "63       2556.094891   2750.188776\n",
       "64       9603.583942  10411.775510\n",
       "65       8027.777372   8467.520408\n",
       "66        281.364964    321.602041\n",
       "67       2412.047445   2758.229592\n",
       "68        305.737226    346.806122\n",
       "69       2977.448905   3185.015306\n",
       "70       1490.434307   1694.571429\n",
       "71       6826.379562   7243.857143\n",
       "72       4861.711679   5533.928571\n",
       "73        637.000000    743.239796\n",
       "74       1788.142336   1901.193878\n",
       "75       3857.120438   4014.505102\n",
       "76       1902.974453   1991.658163\n",
       "77        897.565693   1043.607143\n",
       "78       2113.635036   2325.959184\n",
       "79        311.281022    331.163265\n",
       "80       1660.142336   1898.234694\n",
       "81       5085.164234   5244.071429\n",
       "82        718.222628    737.729592\n",
       "83       1823.806569   1881.637755\n",
       "84        598.029197    622.030612\n",
       "85       5957.178832   6016.862245\n",
       "86       3428.795620   3670.408163\n",
       "88        999.131387   1045.520408\n",
       "90        653.233577    742.229592\n",
       "91       2598.018248   2869.994898\n",
       "92       2508.354015   2817.198980\n",
       "93       5695.740876   5783.193878\n",
       "94       1991.872263   2008.173469\n",
       "95       2419.124088   2419.015306\n",
       "96       5761.036496   5844.311224\n",
       "97       3063.135036   3303.066327\n",
       "98       6052.262774   6484.933673"
      ]
     },
     "execution_count": 15,
     "metadata": {},
     "output_type": "execute_result"
    }
   ],
   "source": [
    "df.index.name = 'id_amat'\n",
    "df"
   ]
  },
  {
   "cell_type": "markdown",
   "metadata": {},
   "source": [
    "# Geographical reference"
   ]
  },
  {
   "cell_type": "code",
   "execution_count": 16,
   "metadata": {},
   "outputs": [],
   "source": [
    "ref = gpd.read_file('raw/ingressi_areac_varchi_shp/ingressi_areac_varchi.shp')"
   ]
  },
  {
   "cell_type": "code",
   "execution_count": 17,
   "metadata": {},
   "outputs": [
    {
     "data": {
      "text/plain": [
       "array([57, 58, 59, 60, 61, 62, 63, 64, 65, 66, 67, 68, 69, 70, 71, 72, 73,\n",
       "       74, 75, 76, 77, 78, 79, 80, 81, 82, 83, 84, 85, 86, 87, 88, 89, 90,\n",
       "       91, 92, 93, 94, 95, 96, 97, 98])"
      ]
     },
     "execution_count": 17,
     "metadata": {},
     "output_type": "execute_result"
    }
   ],
   "source": [
    "ref.id_amat.unique()"
   ]
  },
  {
   "cell_type": "code",
   "execution_count": 18,
   "metadata": {},
   "outputs": [
    {
     "data": {
      "text/plain": [
       "Index(['id_amat', 'label', 'geometry'], dtype='object')"
      ]
     },
     "execution_count": 18,
     "metadata": {},
     "output_type": "execute_result"
    }
   ],
   "source": [
    "ref.columns"
   ]
  },
  {
   "cell_type": "code",
   "execution_count": 19,
   "metadata": {},
   "outputs": [],
   "source": [
    "ref.rename(columns = {'label':'raw_name'}, inplace=True)"
   ]
  },
  {
   "cell_type": "code",
   "execution_count": 20,
   "metadata": {},
   "outputs": [],
   "source": [
    "jf = ref.set_index('id_amat').join(\n",
    "    df,\n",
    "    how = 'inner'\n",
    ")"
   ]
  },
  {
   "cell_type": "code",
   "execution_count": 21,
   "metadata": {},
   "outputs": [
    {
     "data": {
      "image/png": "[encoded data removed]",
      "text/plain": [
       "<Figure size 640x480 with 1 Axes>"
      ]
     },
     "metadata": {},
     "output_type": "display_data"
    }
   ],
   "source": [
    "plt.hist(jf.AAWT - jf.AADT, bins = 30)\n",
    "plt.show()"
   ]
  },
  {
   "cell_type": "markdown",
   "metadata": {},
   "source": [
    "# Map matching with OSM"
   ]
  },
  {
   "cell_type": "code",
   "execution_count": 22,
   "metadata": {},
   "outputs": [],
   "source": [
    "from map_matching_OSM import points_matching"
   ]
  },
  {
   "cell_type": "code",
   "execution_count": 23,
   "metadata": {},
   "outputs": [
    {
     "name": "stdout",
     "output_type": "stream",
     "text": [
      "City downloaded\n"
     ]
    },
    {
     "name": "stderr",
     "output_type": "stream",
     "text": [
      "100%|██████████| 40/40 [00:00<00:00, 212.26it/s]"
     ]
    },
    {
     "name": "stdout",
     "output_type": "stream",
     "text": [
      "We failed to match 0 sensors\n",
      "...on a total of 40 sensors\n"
     ]
    },
    {
     "name": "stderr",
     "output_type": "stream",
     "text": [
      "\n"
     ]
    }
   ],
   "source": [
    "jf = points_matching(jf)"
   ]
  },
  {
   "cell_type": "code",
   "execution_count": 24,
   "metadata": {},
   "outputs": [
    {
     "data": {
      "text/html": [
       "<div>\n",
       "<style scoped>\n",
       "    .dataframe tbody tr th:only-of-type {\n",
       "        vertical-align: middle;\n",
       "    }\n",
       "\n",
       "    .dataframe tbody tr th {\n",
       "        vertical-align: top;\n",
       "    }\n",
       "\n",
       "    .dataframe thead th {\n",
       "        text-align: right;\n",
       "    }\n",
       "</style>\n",
       "<table border=\"1\" class=\"dataframe\">\n",
       "  <thead>\n",
       "    <tr style=\"text-align: right;\">\n",
       "      <th></th>\n",
       "      <th>raw_name</th>\n",
       "      <th>osm_name</th>\n",
       "    </tr>\n",
       "    <tr>\n",
       "      <th>id_amat</th>\n",
       "      <th></th>\n",
       "      <th></th>\n",
       "    </tr>\n",
       "  </thead>\n",
       "  <tbody>\n",
       "    <tr>\n",
       "      <th>57</th>\n",
       "      <td>PORTA TENAGLIA</td>\n",
       "      <td>Via di Porta Tenaglia</td>\n",
       "    </tr>\n",
       "    <tr>\n",
       "      <th>58</th>\n",
       "      <td>LEGNANO</td>\n",
       "      <td>Via Legnano</td>\n",
       "    </tr>\n",
       "    <tr>\n",
       "      <th>59</th>\n",
       "      <td>MOSCOVA</td>\n",
       "      <td>Piazzale Biancamano</td>\n",
       "    </tr>\n",
       "    <tr>\n",
       "      <th>60</th>\n",
       "      <td>VOLTA</td>\n",
       "      <td>Via Alessandro Volta</td>\n",
       "    </tr>\n",
       "    <tr>\n",
       "      <th>61</th>\n",
       "      <td>GARIBALDI</td>\n",
       "      <td>Corso Giuseppe Garibaldi</td>\n",
       "    </tr>\n",
       "    <tr>\n",
       "      <th>62</th>\n",
       "      <td>MILAZZO</td>\n",
       "      <td>Via Milazzo</td>\n",
       "    </tr>\n",
       "    <tr>\n",
       "      <th>63</th>\n",
       "      <td>CASTELFIDARDO</td>\n",
       "      <td>Via Castelfidardo</td>\n",
       "    </tr>\n",
       "    <tr>\n",
       "      <th>64</th>\n",
       "      <td>TURATI</td>\n",
       "      <td>Piazza della Repubblica</td>\n",
       "    </tr>\n",
       "    <tr>\n",
       "      <th>65</th>\n",
       "      <td>VENEZIA</td>\n",
       "      <td>Corso Venezia</td>\n",
       "    </tr>\n",
       "    <tr>\n",
       "      <th>66</th>\n",
       "      <td>BARETTI</td>\n",
       "      <td>Via Giuseppe Baretti</td>\n",
       "    </tr>\n",
       "    <tr>\n",
       "      <th>67</th>\n",
       "      <td>VITALI</td>\n",
       "      <td>Via Luigi Vitali</td>\n",
       "    </tr>\n",
       "    <tr>\n",
       "      <th>68</th>\n",
       "      <td>ROSSINI</td>\n",
       "      <td>Via Gioacchino Rossini</td>\n",
       "    </tr>\n",
       "    <tr>\n",
       "      <th>69</th>\n",
       "      <td>MONFORTE</td>\n",
       "      <td>Corso Monforte</td>\n",
       "    </tr>\n",
       "    <tr>\n",
       "      <th>70</th>\n",
       "      <td>MASCAGNI</td>\n",
       "      <td>Via Pietro Mascagni</td>\n",
       "    </tr>\n",
       "    <tr>\n",
       "      <th>71</th>\n",
       "      <td>PORTA VITTORIA</td>\n",
       "      <td>Corso di Porta Vittoria</td>\n",
       "    </tr>\n",
       "    <tr>\n",
       "      <th>72</th>\n",
       "      <td>BESANA</td>\n",
       "      <td>Via Enrico Besana</td>\n",
       "    </tr>\n",
       "    <tr>\n",
       "      <th>73</th>\n",
       "      <td>LAMARMORA</td>\n",
       "      <td>Via Alfonso Lamarmora</td>\n",
       "    </tr>\n",
       "    <tr>\n",
       "      <th>74</th>\n",
       "      <td>CURTATONE</td>\n",
       "      <td>Via Curtatone</td>\n",
       "    </tr>\n",
       "    <tr>\n",
       "      <th>75</th>\n",
       "      <td>PORTA ROMANA</td>\n",
       "      <td>Corso di Porta Romana</td>\n",
       "    </tr>\n",
       "    <tr>\n",
       "      <th>76</th>\n",
       "      <td>CABRINI</td>\n",
       "      <td>Via Madre Cabrini</td>\n",
       "    </tr>\n",
       "    <tr>\n",
       "      <th>77</th>\n",
       "      <td>PORTA VIGENTINA</td>\n",
       "      <td>Corso di Porta Vigentina</td>\n",
       "    </tr>\n",
       "    <tr>\n",
       "      <th>78</th>\n",
       "      <td>BIANCA DI SAVOIA</td>\n",
       "      <td>Via Bianca di Savoia</td>\n",
       "    </tr>\n",
       "    <tr>\n",
       "      <th>79</th>\n",
       "      <td>MELEGNANO</td>\n",
       "      <td>Via Melegnano</td>\n",
       "    </tr>\n",
       "    <tr>\n",
       "      <th>80</th>\n",
       "      <td>ITALIA</td>\n",
       "      <td>Corso Italia</td>\n",
       "    </tr>\n",
       "    <tr>\n",
       "      <th>81</th>\n",
       "      <td>AURISPA</td>\n",
       "      <td>Via Giovanni Aurispa</td>\n",
       "    </tr>\n",
       "    <tr>\n",
       "      <th>82</th>\n",
       "      <td>PORTA TICINESE</td>\n",
       "      <td>Corso di Porta Ticinese</td>\n",
       "    </tr>\n",
       "    <tr>\n",
       "      <th>83</th>\n",
       "      <td>PANZERI</td>\n",
       "      <td>Via Pietro Panzeri</td>\n",
       "    </tr>\n",
       "    <tr>\n",
       "      <th>84</th>\n",
       "      <td>RONZONI</td>\n",
       "      <td>Via Gaetano Ronzoni</td>\n",
       "    </tr>\n",
       "    <tr>\n",
       "      <th>85</th>\n",
       "      <td>GENOVA</td>\n",
       "      <td>Piazzale Antonio Cantore</td>\n",
       "    </tr>\n",
       "    <tr>\n",
       "      <th>86</th>\n",
       "      <td>AUSONIO</td>\n",
       "      <td>Via Ausonio</td>\n",
       "    </tr>\n",
       "    <tr>\n",
       "      <th>88</th>\n",
       "      <td>SERVIO TULLIO</td>\n",
       "      <td>Via Servio Tullio</td>\n",
       "    </tr>\n",
       "    <tr>\n",
       "      <th>90</th>\n",
       "      <td>BANDELLO</td>\n",
       "      <td>Via Matteo Bandello</td>\n",
       "    </tr>\n",
       "    <tr>\n",
       "      <th>91</th>\n",
       "      <td>SAN VITTORE</td>\n",
       "      <td>Via San Vittore</td>\n",
       "    </tr>\n",
       "    <tr>\n",
       "      <th>92</th>\n",
       "      <td>MAGENTA</td>\n",
       "      <td>Corso Magenta</td>\n",
       "    </tr>\n",
       "    <tr>\n",
       "      <th>93</th>\n",
       "      <td>BOCCACCIO</td>\n",
       "      <td>Via Giovanni Boccaccio</td>\n",
       "    </tr>\n",
       "    <tr>\n",
       "      <th>94</th>\n",
       "      <td>XX SETTEMBRE</td>\n",
       "      <td>Via Venti Settembre</td>\n",
       "    </tr>\n",
       "    <tr>\n",
       "      <th>95</th>\n",
       "      <td>BAZZONI</td>\n",
       "      <td>Via Gian Battista Bazzoni</td>\n",
       "    </tr>\n",
       "    <tr>\n",
       "      <th>96</th>\n",
       "      <td>MASCHERONI</td>\n",
       "      <td>Largo Monsignor Giuseppe Bicchierai</td>\n",
       "    </tr>\n",
       "    <tr>\n",
       "      <th>97</th>\n",
       "      <td>MONTI</td>\n",
       "      <td>Via Vincenzo Monti</td>\n",
       "    </tr>\n",
       "    <tr>\n",
       "      <th>98</th>\n",
       "      <td>MILTON</td>\n",
       "      <td>Viale Giovanni Milton</td>\n",
       "    </tr>\n",
       "  </tbody>\n",
       "</table>\n",
       "</div>"
      ],
      "text/plain": [
       "                 raw_name                             osm_name\n",
       "id_amat                                                       \n",
       "57         PORTA TENAGLIA                Via di Porta Tenaglia\n",
       "58                LEGNANO                          Via Legnano\n",
       "59                MOSCOVA                  Piazzale Biancamano\n",
       "60                  VOLTA                 Via Alessandro Volta\n",
       "61              GARIBALDI             Corso Giuseppe Garibaldi\n",
       "62                MILAZZO                          Via Milazzo\n",
       "63          CASTELFIDARDO                    Via Castelfidardo\n",
       "64                 TURATI              Piazza della Repubblica\n",
       "65                VENEZIA                        Corso Venezia\n",
       "66                BARETTI                 Via Giuseppe Baretti\n",
       "67                 VITALI                     Via Luigi Vitali\n",
       "68                ROSSINI               Via Gioacchino Rossini\n",
       "69               MONFORTE                       Corso Monforte\n",
       "70               MASCAGNI                  Via Pietro Mascagni\n",
       "71         PORTA VITTORIA              Corso di Porta Vittoria\n",
       "72                 BESANA                    Via Enrico Besana\n",
       "73              LAMARMORA                Via Alfonso Lamarmora\n",
       "74              CURTATONE                        Via Curtatone\n",
       "75           PORTA ROMANA                Corso di Porta Romana\n",
       "76                CABRINI                    Via Madre Cabrini\n",
       "77        PORTA VIGENTINA             Corso di Porta Vigentina\n",
       "78       BIANCA DI SAVOIA                 Via Bianca di Savoia\n",
       "79              MELEGNANO                        Via Melegnano\n",
       "80                 ITALIA                         Corso Italia\n",
       "81                AURISPA                 Via Giovanni Aurispa\n",
       "82         PORTA TICINESE              Corso di Porta Ticinese\n",
       "83                PANZERI                   Via Pietro Panzeri\n",
       "84                RONZONI                  Via Gaetano Ronzoni\n",
       "85                 GENOVA             Piazzale Antonio Cantore\n",
       "86                AUSONIO                          Via Ausonio\n",
       "88          SERVIO TULLIO                    Via Servio Tullio\n",
       "90               BANDELLO                  Via Matteo Bandello\n",
       "91            SAN VITTORE                      Via San Vittore\n",
       "92                MAGENTA                        Corso Magenta\n",
       "93              BOCCACCIO               Via Giovanni Boccaccio\n",
       "94           XX SETTEMBRE                  Via Venti Settembre\n",
       "95                BAZZONI            Via Gian Battista Bazzoni\n",
       "96             MASCHERONI  Largo Monsignor Giuseppe Bicchierai\n",
       "97                  MONTI                   Via Vincenzo Monti\n",
       "98                 MILTON                Viale Giovanni Milton"
      ]
     },
     "execution_count": 24,
     "metadata": {},
     "output_type": "execute_result"
    }
   ],
   "source": [
    "jf[['raw_name', 'osm_name']]"
   ]
  },
  {
   "cell_type": "markdown",
   "metadata": {},
   "source": [
    "# Final saving"
   ]
  },
  {
   "cell_type": "code",
   "execution_count": 27,
   "metadata": {},
   "outputs": [],
   "source": [
    "jf[['AADT', 'AAWT', 'geometry', 'raw_name', 'osm_name', 'osm_type', 'osm_lanes', 'osm_oneway', 'osm_distance', 'osmid']].to_file(f'treated/Milan_AADT_AAWT_2024.geojson', index=False)"
   ]
  }
 ],
 "metadata": {
  "kernelspec": {
   "display_name": "base",
   "language": "python",
   "name": "python3"
  },
  "language_info": {
   "codemirror_mode": {
    "name": "ipython",
    "version": 3
   },
   "file_extension": ".py",
   "mimetype": "text/x-python",
   "name": "python",
   "nbconvert_exporter": "python",
   "pygments_lexer": "ipython3",
   "version": "3.12.8"
  }
 },
 "nbformat": 4,
 "nbformat_minor": 2
}
