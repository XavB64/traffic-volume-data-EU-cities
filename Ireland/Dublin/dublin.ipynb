{
 "cells": [
  {
   "cell_type": "markdown",
   "metadata": {},
   "source": [
    "# Librairies"
   ]
  },
  {
   "cell_type": "code",
   "execution_count": 1,
   "metadata": {},
   "outputs": [],
   "source": [
    "import pandas as pd \n",
    "import geopandas as gpd\n",
    "import matplotlib.pylab as plt\n",
    "import numpy as np\n",
    "import zipfile\n",
    "from tqdm import tqdm"
   ]
  },
  {
   "cell_type": "markdown",
   "metadata": {},
   "source": [
    "# Load data"
   ]
  },
  {
   "cell_type": "code",
   "execution_count": 2,
   "metadata": {},
   "outputs": [
    {
     "name": "stderr",
     "output_type": "stream",
     "text": [
      "12it [00:59,  4.98s/it]\n"
     ]
    }
   ],
   "source": [
    "# Open the gzip-compressed file\n",
    "year = 2023\n",
    "filenames = [\n",
    "    f'january{year}',\n",
    "    f'february{year}',\n",
    "    f'march{year}',\n",
    "    f'april{year}',\n",
    "    f'may{year}',\n",
    "    f'june{year}',\n",
    "    f'july{year}',\n",
    "    f'august{year}',\n",
    "    f'september{year}',\n",
    "    f'october{year}',\n",
    "    f'november{year}',\n",
    "    f'december{year}',\n",
    "]\n",
    "filenames2 = filenames = [\n",
    "    f'January{year}',\n",
    "    f'February{year}',\n",
    "    f'March{year}',\n",
    "    f'April{year}',\n",
    "    f'May{year}',\n",
    "    f'June{year}',\n",
    "    f'July{year}',\n",
    "    f'August{year}',\n",
    "    f'September{year}',\n",
    "    f'October{year}',\n",
    "    f'November{year}',\n",
    "    f'December{year}',\n",
    "]\n",
    "\n",
    "l_df = []\n",
    "\n",
    "for filename, filename2 in tqdm(zip(filenames, filenames2)):\n",
    "    # takes a few seconds\n",
    "    with zipfile.ZipFile(f'raw/scats{filename}.zip', 'r') as z:\n",
    "        with z.open(f'SCATS{filename2}.csv') as f :\n",
    "            df = pd.read_csv(f, usecols=range(5))\n",
    "            # Convert to time\n",
    "            df.End_Time = pd.to_datetime(df.End_Time, format = '%Y%m%d%H%M%S')\n",
    "            # Sum over sites' detectors\n",
    "            df = df.groupby(['End_Time', 'Site']).agg(AADT = ('Sum_Volume', 'sum'))\n",
    "            # # groupby days\n",
    "            # # There is a need to manage missing data (for instance if we miss some of the hours)\n",
    "            # # Get mean hour valluue for this road segment ?\n",
    "            # df['day'] = df.index.get_level_values(0).date\n",
    "            # df = df.groupby(['Site', 'day']).sum()\n",
    "            l_df.append(df)\n",
    "            # memory\n",
    "            df=None\n",
    "            \n",
    "df = pd.concat(l_df)\n",
    "l_df = None"
   ]
  },
  {
   "cell_type": "code",
   "execution_count": 3,
   "metadata": {},
   "outputs": [],
   "source": [
    "# This should be done with gdf prior to join\n",
    "\n",
    "import sys\n",
    "from pathlib import Path\n",
    "\n",
    "# Add the ../assets directory to sys.path\n",
    "sys.path.append(str(Path(\"../../assets\").resolve()))\n",
    "\n",
    "from temporal_agg import hourly_to_aadt\n",
    "\n",
    "# df, sensor_id_name, time_name, counts_name"
   ]
  },
  {
   "cell_type": "code",
   "execution_count": 4,
   "metadata": {},
   "outputs": [
    {
     "name": "stdout",
     "output_type": "stream",
     "text": [
      "Hourly capture rate is 92.7 %\n",
      "Daily capture rate is 95.5 %\n"
     ]
    }
   ],
   "source": [
    "df, daily_capture_rate, hourly_capture_rate = hourly_to_aadt(df.swaplevel(), 'Site', 'End_Time', ['AADT'])"
   ]
  },
  {
   "cell_type": "code",
   "execution_count": 6,
   "metadata": {},
   "outputs": [
    {
     "data": {
      "image/png": "[encoded data removed]",
      "text/plain": [
       "<Figure size 640x480 with 1 Axes>"
      ]
     },
     "metadata": {},
     "output_type": "display_data"
    }
   ],
   "source": [
    "plt.hist(df.AADT, bins = 50)\n",
    "plt.show()"
   ]
  },
  {
   "cell_type": "code",
   "execution_count": 7,
   "metadata": {},
   "outputs": [],
   "source": [
    "# referential\n",
    "ref = gpd.read_file('raw/dcc_traffic_signal_sites_20221130.geojson')"
   ]
  },
  {
   "cell_type": "code",
   "execution_count": 8,
   "metadata": {},
   "outputs": [
    {
     "data": {
      "text/plain": [
       "Index(['SiteID', 'Site_Description_Cap', 'Site_Description_Lower', 'Region',\n",
       "       'Lat', 'Long', 'Site_Type', 'geometry'],\n",
       "      dtype='object')"
      ]
     },
     "execution_count": 8,
     "metadata": {},
     "output_type": "execute_result"
    }
   ],
   "source": [
    "ref.columns"
   ]
  },
  {
   "cell_type": "code",
   "execution_count": 9,
   "metadata": {},
   "outputs": [
    {
     "data": {
      "text/html": [
       "<div>\n",
       "<style scoped>\n",
       "    .dataframe tbody tr th:only-of-type {\n",
       "        vertical-align: middle;\n",
       "    }\n",
       "\n",
       "    .dataframe tbody tr th {\n",
       "        vertical-align: top;\n",
       "    }\n",
       "\n",
       "    .dataframe thead th {\n",
       "        text-align: right;\n",
       "    }\n",
       "</style>\n",
       "<table border=\"1\" class=\"dataframe\">\n",
       "  <thead>\n",
       "    <tr style=\"text-align: right;\">\n",
       "      <th></th>\n",
       "      <th>SiteID</th>\n",
       "      <th>Site_Description_Cap</th>\n",
       "      <th>Site_Description_Lower</th>\n",
       "      <th>Region</th>\n",
       "      <th>Lat</th>\n",
       "      <th>Long</th>\n",
       "      <th>Site_Type</th>\n",
       "      <th>geometry</th>\n",
       "    </tr>\n",
       "  </thead>\n",
       "  <tbody>\n",
       "    <tr>\n",
       "      <th>0</th>\n",
       "      <td>1</td>\n",
       "      <td>ABBEY ST @ MARLBOROUGH ST (LUAS)</td>\n",
       "      <td>abbey st @ marlborough st (luas)</td>\n",
       "      <td>CCITY</td>\n",
       "      <td>53.348754</td>\n",
       "      <td>-6.257607</td>\n",
       "      <td>SCATS Site</td>\n",
       "      <td>POINT (-6.25761 53.34875)</td>\n",
       "    </tr>\n",
       "    <tr>\n",
       "      <th>1</th>\n",
       "      <td>2</td>\n",
       "      <td>AMIENS ST @ SEVILLE PL</td>\n",
       "      <td>amiens st @ seville pl</td>\n",
       "      <td>CCITY</td>\n",
       "      <td>53.354711</td>\n",
       "      <td>-6.246679</td>\n",
       "      <td>SCATS Site</td>\n",
       "      <td>POINT (-6.24668 53.35471)</td>\n",
       "    </tr>\n",
       "    <tr>\n",
       "      <th>2</th>\n",
       "      <td>3</td>\n",
       "      <td>AMIENS ST @ TALBOT ST</td>\n",
       "      <td>amiens st @ talbot st</td>\n",
       "      <td>CCITY</td>\n",
       "      <td>53.351374</td>\n",
       "      <td>-6.250073</td>\n",
       "      <td>SCATS Site</td>\n",
       "      <td>POINT (-6.25007 53.35137)</td>\n",
       "    </tr>\n",
       "    <tr>\n",
       "      <th>3</th>\n",
       "      <td>4</td>\n",
       "      <td>ANNESLEY PL @ POPLAR ROW</td>\n",
       "      <td>annesley pl @ poplar row</td>\n",
       "      <td>NCITY</td>\n",
       "      <td>53.361145</td>\n",
       "      <td>-6.240513</td>\n",
       "      <td>SCATS Site</td>\n",
       "      <td>POINT (-6.24051 53.36114)</td>\n",
       "    </tr>\n",
       "    <tr>\n",
       "      <th>4</th>\n",
       "      <td>5</td>\n",
       "      <td>NCR @ AUGHRIM ST</td>\n",
       "      <td>ncr @ aughrim st</td>\n",
       "      <td>WCITY1</td>\n",
       "      <td>53.355797</td>\n",
       "      <td>-6.292406</td>\n",
       "      <td>SCATS Site</td>\n",
       "      <td>POINT (-6.29241 53.3558)</td>\n",
       "    </tr>\n",
       "    <tr>\n",
       "      <th>...</th>\n",
       "      <td>...</td>\n",
       "      <td>...</td>\n",
       "      <td>...</td>\n",
       "      <td>...</td>\n",
       "      <td>...</td>\n",
       "      <td>...</td>\n",
       "      <td>...</td>\n",
       "      <td>...</td>\n",
       "    </tr>\n",
       "    <tr>\n",
       "      <th>820</th>\n",
       "      <td>964</td>\n",
       "      <td>NORTH CIRCULAR ROAD @ TUD</td>\n",
       "      <td>north circular road @ tud</td>\n",
       "      <td>WCITY1</td>\n",
       "      <td>53.357519</td>\n",
       "      <td>-6.286843</td>\n",
       "      <td>SCATS Site</td>\n",
       "      <td>POINT (-6.28684 53.35752)</td>\n",
       "    </tr>\n",
       "    <tr>\n",
       "      <th>821</th>\n",
       "      <td>965</td>\n",
       "      <td>HOLE IN THE WALL / MARSFIELD BELMAYNE</td>\n",
       "      <td>hole in the wall / marsfield belmayne</td>\n",
       "      <td>DCC1</td>\n",
       "      <td>53.408150</td>\n",
       "      <td>-6.161950</td>\n",
       "      <td>SCATS Site</td>\n",
       "      <td>POINT (-6.16195 53.40815)</td>\n",
       "    </tr>\n",
       "    <tr>\n",
       "      <th>822</th>\n",
       "      <td>968</td>\n",
       "      <td>BRIDE ST @ BRIDE RD</td>\n",
       "      <td>bride st @ bride rd</td>\n",
       "      <td>SCITY</td>\n",
       "      <td>53.341474</td>\n",
       "      <td>-6.270088</td>\n",
       "      <td>SCATS Site</td>\n",
       "      <td>POINT (-6.27009 53.34147)</td>\n",
       "    </tr>\n",
       "    <tr>\n",
       "      <th>823</th>\n",
       "      <td>974</td>\n",
       "      <td>BLACKHORSE AVE @ NEPHIN RD</td>\n",
       "      <td>blackhorse ave @ nephin rd</td>\n",
       "      <td>WCITY1</td>\n",
       "      <td>53.362728</td>\n",
       "      <td>-6.311709</td>\n",
       "      <td>SCATS Site</td>\n",
       "      <td>POINT (-6.31171 53.36273)</td>\n",
       "    </tr>\n",
       "    <tr>\n",
       "      <th>824</th>\n",
       "      <td>1002</td>\n",
       "      <td>HEUSTON STATION ACCESS (LUAS)</td>\n",
       "      <td>heuston station access (luas)</td>\n",
       "      <td>CCITY</td>\n",
       "      <td>53.347053</td>\n",
       "      <td>-6.291793</td>\n",
       "      <td>SCATS Site</td>\n",
       "      <td>POINT (-6.29179 53.34705)</td>\n",
       "    </tr>\n",
       "  </tbody>\n",
       "</table>\n",
       "<p>825 rows × 8 columns</p>\n",
       "</div>"
      ],
      "text/plain": [
       "     SiteID                    Site_Description_Cap  \\\n",
       "0         1        ABBEY ST @ MARLBOROUGH ST (LUAS)   \n",
       "1         2                  AMIENS ST @ SEVILLE PL   \n",
       "2         3                   AMIENS ST @ TALBOT ST   \n",
       "3         4                ANNESLEY PL @ POPLAR ROW   \n",
       "4         5                        NCR @ AUGHRIM ST   \n",
       "..      ...                                     ...   \n",
       "820     964               NORTH CIRCULAR ROAD @ TUD   \n",
       "821     965  HOLE IN THE WALL / MARSFIELD BELMAYNE    \n",
       "822     968                     BRIDE ST @ BRIDE RD   \n",
       "823     974              BLACKHORSE AVE @ NEPHIN RD   \n",
       "824    1002           HEUSTON STATION ACCESS (LUAS)   \n",
       "\n",
       "                     Site_Description_Lower  Region        Lat      Long  \\\n",
       "0          abbey st @ marlborough st (luas)   CCITY  53.348754 -6.257607   \n",
       "1                    amiens st @ seville pl   CCITY  53.354711 -6.246679   \n",
       "2                     amiens st @ talbot st   CCITY  53.351374 -6.250073   \n",
       "3                  annesley pl @ poplar row   NCITY  53.361145 -6.240513   \n",
       "4                          ncr @ aughrim st  WCITY1  53.355797 -6.292406   \n",
       "..                                      ...     ...        ...       ...   \n",
       "820               north circular road @ tud  WCITY1  53.357519 -6.286843   \n",
       "821  hole in the wall / marsfield belmayne     DCC1  53.408150 -6.161950   \n",
       "822                     bride st @ bride rd   SCITY  53.341474 -6.270088   \n",
       "823              blackhorse ave @ nephin rd  WCITY1  53.362728 -6.311709   \n",
       "824           heuston station access (luas)   CCITY  53.347053 -6.291793   \n",
       "\n",
       "      Site_Type                   geometry  \n",
       "0    SCATS Site  POINT (-6.25761 53.34875)  \n",
       "1    SCATS Site  POINT (-6.24668 53.35471)  \n",
       "2    SCATS Site  POINT (-6.25007 53.35137)  \n",
       "3    SCATS Site  POINT (-6.24051 53.36114)  \n",
       "4    SCATS Site   POINT (-6.29241 53.3558)  \n",
       "..          ...                        ...  \n",
       "820  SCATS Site  POINT (-6.28684 53.35752)  \n",
       "821  SCATS Site  POINT (-6.16195 53.40815)  \n",
       "822  SCATS Site  POINT (-6.27009 53.34147)  \n",
       "823  SCATS Site  POINT (-6.31171 53.36273)  \n",
       "824  SCATS Site  POINT (-6.29179 53.34705)  \n",
       "\n",
       "[825 rows x 8 columns]"
      ]
     },
     "execution_count": 9,
     "metadata": {},
     "output_type": "execute_result"
    }
   ],
   "source": [
    "ref"
   ]
  },
  {
   "cell_type": "code",
   "execution_count": 10,
   "metadata": {},
   "outputs": [],
   "source": [
    "#Site_Type : Site type; it has two values: SCATS or Signal Site\n",
    "# - SCATS means that both SCATS detectors and traffic signals (traffic lights) are present.\n",
    "# - Signal Site value means that only traffic signals are present.\n",
    "\n",
    "jf = ref[ref.Site_Type == 'SCATS Site'].rename(\n",
    "    columns={\"SiteID\":'Sites', 'Site_Description_Lower':'Street_name'}\n",
    "    ).set_index('Sites').join(df)"
   ]
  },
  {
   "cell_type": "markdown",
   "metadata": {},
   "source": [
    "# Map matching with OSM"
   ]
  },
  {
   "cell_type": "code",
   "execution_count": 11,
   "metadata": {},
   "outputs": [],
   "source": [
    "from map_matching_OSM import points_matching"
   ]
  },
  {
   "cell_type": "code",
   "execution_count": 12,
   "metadata": {},
   "outputs": [
    {
     "name": "stdout",
     "output_type": "stream",
     "text": [
      "City downloaded\n"
     ]
    },
    {
     "name": "stderr",
     "output_type": "stream",
     "text": [
      " 49%|████▉     | 330/667 [00:02<00:02, 119.86it/s]"
     ]
    },
    {
     "name": "stdout",
     "output_type": "stream",
     "text": [
      "Value Error - No roads found nearby current index\n"
     ]
    },
    {
     "name": "stderr",
     "output_type": "stream",
     "text": [
      " 64%|██████▍   | 426/667 [00:03<00:02, 102.55it/s]"
     ]
    },
    {
     "name": "stdout",
     "output_type": "stream",
     "text": [
      "Value Error - No roads found nearby current index\n"
     ]
    },
    {
     "name": "stderr",
     "output_type": "stream",
     "text": [
      " 73%|███████▎  | 484/667 [00:04<00:01, 107.03it/s]"
     ]
    },
    {
     "name": "stdout",
     "output_type": "stream",
     "text": [
      "Value Error - No roads found nearby current index\n"
     ]
    },
    {
     "name": "stderr",
     "output_type": "stream",
     "text": [
      " 92%|█████████▏| 612/667 [00:05<00:00, 114.16it/s]"
     ]
    },
    {
     "name": "stdout",
     "output_type": "stream",
     "text": [
      "Value Error - No roads found nearby current index\n",
      "Value Error - No roads found nearby current index\n"
     ]
    },
    {
     "name": "stderr",
     "output_type": "stream",
     "text": [
      "100%|██████████| 667/667 [00:05<00:00, 115.44it/s]"
     ]
    },
    {
     "name": "stdout",
     "output_type": "stream",
     "text": [
      "We failed to match 5 sensors\n",
      "...on a total of 667 sensors\n"
     ]
    },
    {
     "name": "stderr",
     "output_type": "stream",
     "text": [
      "\n"
     ]
    }
   ],
   "source": [
    "jf = points_matching(jf)"
   ]
  },
  {
   "cell_type": "code",
   "execution_count": 13,
   "metadata": {},
   "outputs": [
    {
     "data": {
      "text/html": [
       "<div>\n",
       "<style scoped>\n",
       "    .dataframe tbody tr th:only-of-type {\n",
       "        vertical-align: middle;\n",
       "    }\n",
       "\n",
       "    .dataframe tbody tr th {\n",
       "        vertical-align: top;\n",
       "    }\n",
       "\n",
       "    .dataframe thead th {\n",
       "        text-align: right;\n",
       "    }\n",
       "</style>\n",
       "<table border=\"1\" class=\"dataframe\">\n",
       "  <thead>\n",
       "    <tr style=\"text-align: right;\">\n",
       "      <th></th>\n",
       "      <th>Street_name</th>\n",
       "      <th>osm_name</th>\n",
       "    </tr>\n",
       "    <tr>\n",
       "      <th>Sites</th>\n",
       "      <th></th>\n",
       "      <th></th>\n",
       "    </tr>\n",
       "  </thead>\n",
       "  <tbody>\n",
       "    <tr>\n",
       "      <th>1</th>\n",
       "      <td>abbey st @ marlborough st (luas)</td>\n",
       "      <td>Abbey Street Lower</td>\n",
       "    </tr>\n",
       "    <tr>\n",
       "      <th>2</th>\n",
       "      <td>amiens st @ seville pl</td>\n",
       "      <td>North Strand Road</td>\n",
       "    </tr>\n",
       "    <tr>\n",
       "      <th>3</th>\n",
       "      <td>amiens st @ talbot st</td>\n",
       "      <td>Amiens Street</td>\n",
       "    </tr>\n",
       "    <tr>\n",
       "      <th>4</th>\n",
       "      <td>annesley pl @ poplar row</td>\n",
       "      <td>Poplar Row</td>\n",
       "    </tr>\n",
       "    <tr>\n",
       "      <th>5</th>\n",
       "      <td>ncr @ aughrim st</td>\n",
       "      <td>North Circular Road</td>\n",
       "    </tr>\n",
       "    <tr>\n",
       "      <th>6</th>\n",
       "      <td>baggot st bridge</td>\n",
       "      <td>Baggot Street Lower</td>\n",
       "    </tr>\n",
       "    <tr>\n",
       "      <th>7</th>\n",
       "      <td>baggot st @ fitzwilliam st</td>\n",
       "      <td>Fitzwilliam Street Lower</td>\n",
       "    </tr>\n",
       "    <tr>\n",
       "      <th>8</th>\n",
       "      <td>baggot st @ waterloo rd</td>\n",
       "      <td>Baggot Street Upper</td>\n",
       "    </tr>\n",
       "    <tr>\n",
       "      <th>9</th>\n",
       "      <td>ballybough rd @ clonliffe rd (luke kelly br)</td>\n",
       "      <td>Clonliffe Road</td>\n",
       "    </tr>\n",
       "    <tr>\n",
       "      <th>10</th>\n",
       "      <td>ballygall rd west @ clune rd</td>\n",
       "      <td>Ballygall Road West</td>\n",
       "    </tr>\n",
       "    <tr>\n",
       "      <th>11</th>\n",
       "      <td>ballymun rd @ glasnevin av</td>\n",
       "      <td>Glasnevin Avenue</td>\n",
       "    </tr>\n",
       "    <tr>\n",
       "      <th>12</th>\n",
       "      <td>ballymun rd @ griffith av</td>\n",
       "      <td>Griffith Avenue</td>\n",
       "    </tr>\n",
       "    <tr>\n",
       "      <th>13</th>\n",
       "      <td>ballymun rd @ st pappins rd</td>\n",
       "      <td>Ballymun Road</td>\n",
       "    </tr>\n",
       "    <tr>\n",
       "      <th>14</th>\n",
       "      <td>bath st @ beach rd / dock rd</td>\n",
       "      <td>Beach Road</td>\n",
       "    </tr>\n",
       "    <tr>\n",
       "      <th>15</th>\n",
       "      <td>beaumont rd @ shantalla rd</td>\n",
       "      <td>Beaumont Road</td>\n",
       "    </tr>\n",
       "    <tr>\n",
       "      <th>17</th>\n",
       "      <td>beresford pl @ eden quay</td>\n",
       "      <td>Butt Bridge</td>\n",
       "    </tr>\n",
       "    <tr>\n",
       "      <th>18</th>\n",
       "      <td>ncr @ berkeley rd</td>\n",
       "      <td>North Circular Road</td>\n",
       "    </tr>\n",
       "    <tr>\n",
       "      <th>19</th>\n",
       "      <td>blackhall pl @ benburb st (luas)</td>\n",
       "      <td>Blackhall Place</td>\n",
       "    </tr>\n",
       "    <tr>\n",
       "      <th>20</th>\n",
       "      <td>blackhall pl @ north king st</td>\n",
       "      <td>Blackhall Place</td>\n",
       "    </tr>\n",
       "    <tr>\n",
       "      <th>21</th>\n",
       "      <td>capel st @ bolton st</td>\n",
       "      <td>North King Street</td>\n",
       "    </tr>\n",
       "  </tbody>\n",
       "</table>\n",
       "</div>"
      ],
      "text/plain": [
       "                                        Street_name                  osm_name\n",
       "Sites                                                                        \n",
       "1                  abbey st @ marlborough st (luas)        Abbey Street Lower\n",
       "2                            amiens st @ seville pl         North Strand Road\n",
       "3                             amiens st @ talbot st             Amiens Street\n",
       "4                          annesley pl @ poplar row                Poplar Row\n",
       "5                                  ncr @ aughrim st       North Circular Road\n",
       "6                                  baggot st bridge       Baggot Street Lower\n",
       "7                        baggot st @ fitzwilliam st  Fitzwilliam Street Lower\n",
       "8                           baggot st @ waterloo rd       Baggot Street Upper\n",
       "9      ballybough rd @ clonliffe rd (luke kelly br)            Clonliffe Road\n",
       "10                     ballygall rd west @ clune rd       Ballygall Road West\n",
       "11                       ballymun rd @ glasnevin av          Glasnevin Avenue\n",
       "12                        ballymun rd @ griffith av           Griffith Avenue\n",
       "13                      ballymun rd @ st pappins rd             Ballymun Road\n",
       "14                     bath st @ beach rd / dock rd                Beach Road\n",
       "15                       beaumont rd @ shantalla rd             Beaumont Road\n",
       "17                         beresford pl @ eden quay               Butt Bridge\n",
       "18                                ncr @ berkeley rd       North Circular Road\n",
       "19                 blackhall pl @ benburb st (luas)           Blackhall Place\n",
       "20                     blackhall pl @ north king st           Blackhall Place\n",
       "21                             capel st @ bolton st         North King Street"
      ]
     },
     "execution_count": 13,
     "metadata": {},
     "output_type": "execute_result"
    }
   ],
   "source": [
    "jf[['Street_name', 'osm_name']].dropna().drop_duplicates()[:20]"
   ]
  },
  {
   "cell_type": "markdown",
   "metadata": {},
   "source": [
    "# Final saving"
   ]
  },
  {
   "cell_type": "code",
   "execution_count": 15,
   "metadata": {},
   "outputs": [
    {
     "name": "stdout",
     "output_type": "stream",
     "text": [
      "Number of NaN values for AADT: 0\n",
      "Number of NaN values for geometry: 0\n",
      "Number of low outliers for AADT: 75\n",
      "Number of high outliers for AADT: 0\n"
     ]
    }
   ],
   "source": [
    "from validate_dataset import validate_dataset\n",
    "\n",
    "jf = validate_dataset(jf)"
   ]
  },
  {
   "cell_type": "code",
   "execution_count": 16,
   "metadata": {},
   "outputs": [],
   "source": [
    "jf.rename(columns = {'AADT_AAWT':'AAWT', 'Street_name':'raw_name'}, inplace=True)"
   ]
  },
  {
   "cell_type": "code",
   "execution_count": 17,
   "metadata": {},
   "outputs": [],
   "source": [
    "jf[['AADT', 'AAWT', 'raw_name', 'geometry', 'osm_name', 'osm_type', 'osm_lanes', 'osm_oneway', 'osm_distance', 'osm_maxspeed', 'osmid']].to_file(f'treated/Dublin_AADT_AAWT_{year}.geojson', index = False)"
   ]
  }
 ],
 "metadata": {
  "kernelspec": {
   "display_name": "base",
   "language": "python",
   "name": "python3"
  },
  "language_info": {
   "codemirror_mode": {
    "name": "ipython",
    "version": 3
   },
   "file_extension": ".py",
   "mimetype": "text/x-python",
   "name": "python",
   "nbconvert_exporter": "python",
   "pygments_lexer": "ipython3",
   "version": "3.12.8"
  }
 },
 "nbformat": 4,
 "nbformat_minor": 2
}
