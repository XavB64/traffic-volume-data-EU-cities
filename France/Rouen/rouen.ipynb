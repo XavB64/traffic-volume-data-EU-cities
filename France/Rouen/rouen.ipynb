{
 "cells": [
  {
   "cell_type": "markdown",
   "metadata": {},
   "source": [
    "# Librairies"
   ]
  },
  {
   "cell_type": "code",
   "execution_count": 1,
   "metadata": {},
   "outputs": [],
   "source": [
    "import geopandas as gpd\n",
    "import numpy as np"
   ]
  },
  {
   "cell_type": "markdown",
   "metadata": {},
   "source": [
    "# Load data"
   ]
  },
  {
   "cell_type": "code",
   "execution_count": 2,
   "metadata": {},
   "outputs": [],
   "source": [
    "df = gpd.read_file('raw/comptages-et-enquetes-sur-le-reseau-routier.geojson')"
   ]
  },
  {
   "cell_type": "code",
   "execution_count": 3,
   "metadata": {},
   "outputs": [
    {
     "data": {
      "text/plain": [
       "Index(['type', 'type_details', 'gestionnaire', 'id_sig', 'annee',\n",
       "       'commune_insee', 'commune', 'voie_rue', 'nb_sens', 'orientation',\n",
       "       'tv_tmja', 'pl_pct_tmja', 'tv_tmja_pct_evo', 'tv_tmjo', 'pl_pct_tmjo',\n",
       "       'tv_tmjo_pct_evo', 'tv_hpm', 'tv_hpm_h', 'tv_hps', 'tv_hps_h',\n",
       "       'uvp_tmja', 'uvp_tmjo', 'uvp_hpm', 'uvp_hpm_h', 'uvp_hps', 'uvp_hps_h',\n",
       "       'x_84', 'y_84', 'geometry'],\n",
       "      dtype='object')"
      ]
     },
     "execution_count": 3,
     "metadata": {},
     "output_type": "execute_result"
    }
   ],
   "source": [
    "df.columns"
   ]
  },
  {
   "cell_type": "raw",
   "metadata": {},
   "source": [
    "    TV_HPM : Tout Véhicule - Heure de Pointe du Matin\n",
    "    TV_HPS : Tout Véhicule - Heure de Pointe du Soir\n",
    "    PL : Poids Lourds\n",
    "\n",
    "    UVP : Unité de Véhicule Particulier != Véhicule Particulier\n",
    "    Le concepteur de voirie détermine le nombre de voies de son ouvrage en fonction du volume de circulation prévisible. Pour prendre en compte les différents types de véhicules, il utilise souvent l'unité de véhicule particulier (UVP) définie comme suit :\n",
    "    un véhicule léger ou une camionnette = 1 UVP ;\n",
    "    un poids-lourds de 3,5 tonnes et plus = 2 UVP ;\n",
    "    un cycle = 0,3 UVP (exceptionnellement[Quand ?] entre 0,2 et 0,5).\n"
   ]
  },
  {
   "cell_type": "code",
   "execution_count": 4,
   "metadata": {},
   "outputs": [],
   "source": [
    "df.drop([ 'tv_tmja_pct_evo', \n",
    "       'tv_tmjo_pct_evo', 'tv_hpm', 'tv_hpm_h', 'tv_hps', 'tv_hps_h',\n",
    "       'uvp_tmja', 'uvp_tmjo', 'uvp_hpm', 'uvp_hpm_h', 'uvp_hps', 'uvp_hps_h',\n",
    "       'x_84', 'y_84'], axis = 1, inplace=True)"
   ]
  },
  {
   "cell_type": "code",
   "execution_count": 5,
   "metadata": {},
   "outputs": [
    {
     "data": {
      "text/plain": [
       "array(['Comptage ponctuel en section',\n",
       "       'Comptage ponctuel directionnel sur carrefour',\n",
       "       'Comptage ponctuel de modes doux',\n",
       "       'Autre type de campagne ponctuelle',\n",
       "       'Comptage permanent en section', 'Comptage permanent de vélos'],\n",
       "      dtype=object)"
      ]
     },
     "execution_count": 5,
     "metadata": {},
     "output_type": "execute_result"
    }
   ],
   "source": [
    "df['type'].unique()"
   ]
  },
  {
   "cell_type": "code",
   "execution_count": 6,
   "metadata": {},
   "outputs": [],
   "source": [
    "# Filter out counting which is not related to motorized transport\n",
    "df = df[df['type'].isin([\n",
    "        'Comptage ponctuel en section',\n",
    "        'Comptage ponctuel directionnel sur carrefour',\n",
    "        'Comptage permanent en section', \n",
    "])]"
   ]
  },
  {
   "cell_type": "code",
   "execution_count": 7,
   "metadata": {},
   "outputs": [
    {
     "data": {
      "text/plain": [
       "type\n",
       "Comptage permanent en section                   3388\n",
       "Comptage ponctuel en section                    2322\n",
       "Comptage ponctuel directionnel sur carrefour     552\n",
       "Name: count, dtype: int64"
      ]
     },
     "execution_count": 7,
     "metadata": {},
     "output_type": "execute_result"
    }
   ],
   "source": [
    "df['type'].value_counts()"
   ]
  },
  {
   "cell_type": "code",
   "execution_count": 8,
   "metadata": {},
   "outputs": [],
   "source": [
    "# \"Comptage permanent\" is pretty hard to use because sometimes it monitors specific lanes and there are no common keys to aggregate the values to the entire road section\n",
    "# It's seems the last few characters of 'id_sig' might be related to that but there are a lot of different cases\n",
    "# Therefore, we should proceed only with the temporary counts\n",
    "\n",
    "df = df[df['type'] != 'Comptage permanent en section']"
   ]
  },
  {
   "cell_type": "code",
   "execution_count": 9,
   "metadata": {},
   "outputs": [
    {
     "data": {
      "text/plain": [
       "orientation\n",
       "Sud-Nord     107\n",
       "Nord-Sud     104\n",
       "Ouest-Est     94\n",
       "Est-Ouest     88\n",
       "Name: count, dtype: int64"
      ]
     },
     "execution_count": 9,
     "metadata": {},
     "output_type": "execute_result"
    }
   ],
   "source": [
    "df.orientation.value_counts()"
   ]
  },
  {
   "cell_type": "code",
   "execution_count": 10,
   "metadata": {},
   "outputs": [
    {
     "data": {
      "text/plain": [
       "nb_sens\n",
       "2 sens         1924\n",
       "Sens unique     398\n",
       "Name: count, dtype: int64"
      ]
     },
     "execution_count": 10,
     "metadata": {},
     "output_type": "execute_result"
    }
   ],
   "source": [
    "df.nb_sens.value_counts()"
   ]
  },
  {
   "cell_type": "code",
   "execution_count": 11,
   "metadata": {},
   "outputs": [
    {
     "data": {
      "text/plain": [
       "annee\n",
       "2010      3\n",
       "2011     22\n",
       "2012     58\n",
       "2013     38\n",
       "2014    142\n",
       "2015    118\n",
       "2016    227\n",
       "2017    263\n",
       "2018    351\n",
       "2019    379\n",
       "2020    252\n",
       "2021    368\n",
       "2022    306\n",
       "2023    277\n",
       "2024     70\n",
       "Name: count, dtype: int64"
      ]
     },
     "execution_count": 11,
     "metadata": {},
     "output_type": "execute_result"
    }
   ],
   "source": [
    "df.annee.value_counts().sort_index()"
   ]
  },
  {
   "cell_type": "code",
   "execution_count": 12,
   "metadata": {},
   "outputs": [
    {
     "data": {
      "text/plain": [
       "Index(['type', 'type_details', 'gestionnaire', 'id_sig', 'annee',\n",
       "       'commune_insee', 'commune', 'voie_rue', 'nb_sens', 'orientation',\n",
       "       'tv_tmja', 'pl_pct_tmja', 'tv_tmjo', 'pl_pct_tmjo', 'geometry'],\n",
       "      dtype='object')"
      ]
     },
     "execution_count": 12,
     "metadata": {},
     "output_type": "execute_result"
    }
   ],
   "source": [
    "df.columns"
   ]
  },
  {
   "cell_type": "code",
   "execution_count": 13,
   "metadata": {},
   "outputs": [],
   "source": [
    "# Format names\n",
    "df.rename({\n",
    "    'tv_tmja' : 'AADT',\n",
    "    'tv_tmjo' : 'AAWT', \n",
    "    'pl_pct_tmja' : 'TR_pct_AADT',\n",
    "    'pl_pct_tmjo' : 'TR_pct_AAWT',\n",
    "    'voie_rue' : 'raw_name',\n",
    "    'nb_sens' : 'raw_oneway',\n",
    "    'orientation' : 'raw_direction'\n",
    "}, axis = 1, inplace=True)"
   ]
  },
  {
   "cell_type": "code",
   "execution_count": 14,
   "metadata": {},
   "outputs": [],
   "source": [
    "# removing NaN values\n",
    "df.dropna(subset = ['AADT', 'AAWT'], inplace=True)"
   ]
  },
  {
   "cell_type": "code",
   "execution_count": 15,
   "metadata": {},
   "outputs": [],
   "source": [
    "df.raw_oneway = df.raw_oneway.apply(lambda x : False if x == '2 sens' else True)"
   ]
  },
  {
   "cell_type": "code",
   "execution_count": 16,
   "metadata": {},
   "outputs": [
    {
     "data": {
      "text/plain": [
       "1597"
      ]
     },
     "execution_count": 16,
     "metadata": {},
     "output_type": "execute_result"
    }
   ],
   "source": [
    "df.geometry.unique().size"
   ]
  },
  {
   "cell_type": "code",
   "execution_count": 17,
   "metadata": {},
   "outputs": [
    {
     "data": {
      "text/plain": [
       "(2322, 15)"
      ]
     },
     "execution_count": 17,
     "metadata": {},
     "output_type": "execute_result"
    }
   ],
   "source": [
    "df.shape # No common id to join later, only geometries"
   ]
  },
  {
   "cell_type": "markdown",
   "metadata": {},
   "source": [
    "# Map matching with OSM"
   ]
  },
  {
   "cell_type": "code",
   "execution_count": 18,
   "metadata": {},
   "outputs": [],
   "source": [
    "import sys\n",
    "from pathlib import Path\n",
    "\n",
    "# Add the ../assets directory to sys.path\n",
    "sys.path.append(str(Path(\"../../assets\").resolve()))\n",
    "\n",
    "from map_matching_OSM import points_matching"
   ]
  },
  {
   "cell_type": "code",
   "execution_count": 19,
   "metadata": {},
   "outputs": [
    {
     "name": "stdout",
     "output_type": "stream",
     "text": [
      "City downloaded\n"
     ]
    },
    {
     "name": "stderr",
     "output_type": "stream",
     "text": [
      " 10%|▉         | 230/2322 [00:01<00:14, 140.44it/s]"
     ]
    },
    {
     "name": "stdout",
     "output_type": "stream",
     "text": [
      "Value Error - No roads found nearby current index\n"
     ]
    },
    {
     "name": "stderr",
     "output_type": "stream",
     "text": [
      " 89%|████████▉ | 2068/2322 [00:15<00:01, 127.97it/s]"
     ]
    },
    {
     "name": "stdout",
     "output_type": "stream",
     "text": [
      "Value Error - No roads found nearby current index\n"
     ]
    },
    {
     "name": "stderr",
     "output_type": "stream",
     "text": [
      " 93%|█████████▎| 2160/2322 [00:16<00:01, 122.76it/s]"
     ]
    },
    {
     "name": "stdout",
     "output_type": "stream",
     "text": [
      "Value Error - No roads found nearby current index\n"
     ]
    },
    {
     "name": "stderr",
     "output_type": "stream",
     "text": [
      " 98%|█████████▊| 2267/2322 [00:16<00:00, 124.16it/s]"
     ]
    },
    {
     "name": "stdout",
     "output_type": "stream",
     "text": [
      "Value Error - No roads found nearby current index\n"
     ]
    },
    {
     "name": "stderr",
     "output_type": "stream",
     "text": [
      "100%|██████████| 2322/2322 [00:17<00:00, 133.18it/s]"
     ]
    },
    {
     "name": "stdout",
     "output_type": "stream",
     "text": [
      "We failed to match 4 sensors\n",
      "...on a total of 2322 sensors\n"
     ]
    },
    {
     "name": "stderr",
     "output_type": "stream",
     "text": [
      "\n"
     ]
    }
   ],
   "source": [
    "# Perform on the entire dataframe\n",
    "df = points_matching(df)"
   ]
  },
  {
   "cell_type": "code",
   "execution_count": 20,
   "metadata": {},
   "outputs": [
    {
     "data": {
      "text/html": [
       "<div>\n",
       "<style scoped>\n",
       "    .dataframe tbody tr th:only-of-type {\n",
       "        vertical-align: middle;\n",
       "    }\n",
       "\n",
       "    .dataframe tbody tr th {\n",
       "        vertical-align: top;\n",
       "    }\n",
       "\n",
       "    .dataframe thead th {\n",
       "        text-align: right;\n",
       "    }\n",
       "</style>\n",
       "<table border=\"1\" class=\"dataframe\">\n",
       "  <thead>\n",
       "    <tr style=\"text-align: right;\">\n",
       "      <th></th>\n",
       "      <th>raw_name</th>\n",
       "      <th>osm_name</th>\n",
       "    </tr>\n",
       "  </thead>\n",
       "  <tbody>\n",
       "    <tr>\n",
       "      <th>0</th>\n",
       "      <td>Rue de la Ronce</td>\n",
       "      <td>Rue de la Ronce</td>\n",
       "    </tr>\n",
       "    <tr>\n",
       "      <th>1</th>\n",
       "      <td>Rue du 19 Mars</td>\n",
       "      <td>Rue du 19 Mars 1962</td>\n",
       "    </tr>\n",
       "    <tr>\n",
       "      <th>2</th>\n",
       "      <td>Rue Gérard Marti</td>\n",
       "      <td>Rue Gérard Marti</td>\n",
       "    </tr>\n",
       "    <tr>\n",
       "      <th>3</th>\n",
       "      <td>Rue Victor Hugo</td>\n",
       "      <td>Rue Victor Hugo</td>\n",
       "    </tr>\n",
       "    <tr>\n",
       "      <th>4</th>\n",
       "      <td>D42 - Route de Duclair</td>\n",
       "      <td>Route de Duclair</td>\n",
       "    </tr>\n",
       "    <tr>\n",
       "      <th>5</th>\n",
       "      <td>D64 - Route de Saint-Wandrille</td>\n",
       "      <td>Route de Saint-Wandrille</td>\n",
       "    </tr>\n",
       "    <tr>\n",
       "      <th>7</th>\n",
       "      <td>Rue Pasteur</td>\n",
       "      <td>Rue Pasteur</td>\n",
       "    </tr>\n",
       "    <tr>\n",
       "      <th>8</th>\n",
       "      <td>D3 - Avenue Jean Jaurès</td>\n",
       "      <td>Avenue Jean Jaurès</td>\n",
       "    </tr>\n",
       "    <tr>\n",
       "      <th>9</th>\n",
       "      <td>D938 - Boulevard du 11 Novembre</td>\n",
       "      <td>Boulevard du 11 Novembre</td>\n",
       "    </tr>\n",
       "    <tr>\n",
       "      <th>23</th>\n",
       "      <td>D43 - Avenue du Val aux Dames</td>\n",
       "      <td>Avenue du Val aux Dames</td>\n",
       "    </tr>\n",
       "    <tr>\n",
       "      <th>26</th>\n",
       "      <td>Rue de la Commune 1871</td>\n",
       "      <td>Rue de la Commune 1871</td>\n",
       "    </tr>\n",
       "    <tr>\n",
       "      <th>29</th>\n",
       "      <td>Rue des Hautes Haies</td>\n",
       "      <td>Rue des Hautes Haies</td>\n",
       "    </tr>\n",
       "    <tr>\n",
       "      <th>31</th>\n",
       "      <td>D207 - Rue de Belbeuf</td>\n",
       "      <td>Rue de Belbeuf</td>\n",
       "    </tr>\n",
       "    <tr>\n",
       "      <th>33</th>\n",
       "      <td>Rue Guillaume Lecointe</td>\n",
       "      <td>Rue Guillaume Lecointe</td>\n",
       "    </tr>\n",
       "    <tr>\n",
       "      <th>34</th>\n",
       "      <td>Rue Barbet</td>\n",
       "      <td>Rue Barbet</td>\n",
       "    </tr>\n",
       "    <tr>\n",
       "      <th>35</th>\n",
       "      <td>Rue Adolphe Marie</td>\n",
       "      <td>Rue Adolphe Marie</td>\n",
       "    </tr>\n",
       "    <tr>\n",
       "      <th>36</th>\n",
       "      <td>D51 - Chemin de Croisset</td>\n",
       "      <td>Chemin de Croisset</td>\n",
       "    </tr>\n",
       "    <tr>\n",
       "      <th>54</th>\n",
       "      <td>Rue Paul Nouel</td>\n",
       "      <td>Rue Paul Nouel</td>\n",
       "    </tr>\n",
       "    <tr>\n",
       "      <th>55</th>\n",
       "      <td>D43 - Rue de la Table de Pierre</td>\n",
       "      <td>Rue de la Table de Pierre</td>\n",
       "    </tr>\n",
       "    <tr>\n",
       "      <th>57</th>\n",
       "      <td>Avenue Léon Blum</td>\n",
       "      <td>Avenue Léon Blum</td>\n",
       "    </tr>\n",
       "    <tr>\n",
       "      <th>59</th>\n",
       "      <td>D155 - Route de Montville</td>\n",
       "      <td>Route de Montville</td>\n",
       "    </tr>\n",
       "    <tr>\n",
       "      <th>60</th>\n",
       "      <td>D51 - Rue de Fresquiennes</td>\n",
       "      <td>Rue de Fresquiennes</td>\n",
       "    </tr>\n",
       "    <tr>\n",
       "      <th>61</th>\n",
       "      <td>D982 - Route de Duclair</td>\n",
       "      <td>Route de Duclair</td>\n",
       "    </tr>\n",
       "    <tr>\n",
       "      <th>62</th>\n",
       "      <td>D95 - Avenue Jose Maria de Heredia</td>\n",
       "      <td>Avenue Jose-Maria de Heredia</td>\n",
       "    </tr>\n",
       "    <tr>\n",
       "      <th>63</th>\n",
       "      <td>Rue Armand Requier</td>\n",
       "      <td>Rue Armand Requier</td>\n",
       "    </tr>\n",
       "  </tbody>\n",
       "</table>\n",
       "</div>"
      ],
      "text/plain": [
       "                              raw_name                      osm_name\n",
       "0                      Rue de la Ronce               Rue de la Ronce\n",
       "1                       Rue du 19 Mars           Rue du 19 Mars 1962\n",
       "2                     Rue Gérard Marti              Rue Gérard Marti\n",
       "3                      Rue Victor Hugo               Rue Victor Hugo\n",
       "4               D42 - Route de Duclair              Route de Duclair\n",
       "5       D64 - Route de Saint-Wandrille      Route de Saint-Wandrille\n",
       "7                          Rue Pasteur                   Rue Pasteur\n",
       "8              D3 - Avenue Jean Jaurès            Avenue Jean Jaurès\n",
       "9      D938 - Boulevard du 11 Novembre      Boulevard du 11 Novembre\n",
       "23       D43 - Avenue du Val aux Dames       Avenue du Val aux Dames\n",
       "26              Rue de la Commune 1871        Rue de la Commune 1871\n",
       "29                Rue des Hautes Haies          Rue des Hautes Haies\n",
       "31               D207 - Rue de Belbeuf                Rue de Belbeuf\n",
       "33              Rue Guillaume Lecointe        Rue Guillaume Lecointe\n",
       "34                          Rue Barbet                    Rue Barbet\n",
       "35                   Rue Adolphe Marie             Rue Adolphe Marie\n",
       "36            D51 - Chemin de Croisset            Chemin de Croisset\n",
       "54                      Rue Paul Nouel                Rue Paul Nouel\n",
       "55     D43 - Rue de la Table de Pierre     Rue de la Table de Pierre\n",
       "57                    Avenue Léon Blum              Avenue Léon Blum\n",
       "59           D155 - Route de Montville            Route de Montville\n",
       "60           D51 - Rue de Fresquiennes           Rue de Fresquiennes\n",
       "61             D982 - Route de Duclair              Route de Duclair\n",
       "62  D95 - Avenue Jose Maria de Heredia  Avenue Jose-Maria de Heredia\n",
       "63                  Rue Armand Requier            Rue Armand Requier"
      ]
     },
     "execution_count": 20,
     "metadata": {},
     "output_type": "execute_result"
    }
   ],
   "source": [
    "df[['raw_name', 'osm_name']].dropna().drop_duplicates()[:25]"
   ]
  },
  {
   "cell_type": "markdown",
   "metadata": {},
   "source": [
    "# Final saving"
   ]
  },
  {
   "cell_type": "code",
   "execution_count": 22,
   "metadata": {},
   "outputs": [
    {
     "name": "stdout",
     "output_type": "stream",
     "text": [
      "Number of NaN values for AADT: 0\n",
      "Number of NaN values for geometry: 0\n",
      "Number of low outliers for AADT: 0\n",
      "Number of high outliers for AADT: 0\n"
     ]
    }
   ],
   "source": [
    "from validate_dataset import validate_dataset\n",
    "\n",
    "df = validate_dataset(df)"
   ]
  },
  {
   "cell_type": "code",
   "execution_count": 23,
   "metadata": {},
   "outputs": [
    {
     "name": "stdout",
     "output_type": "stream",
     "text": [
      "2015 77\n",
      "2016 151\n",
      "2017 225\n",
      "2018 307\n",
      "2019 306\n",
      "2020 226\n",
      "2021 291\n",
      "2022 221\n",
      "2023 240\n",
      "2024 45\n"
     ]
    }
   ],
   "source": [
    "# Saving\n",
    "for year in range(2015, 2025):\n",
    "    # Extract corresponding year\n",
    "    sub = df[df.annee == year]\n",
    "    print(year, sub.shape[0])\n",
    "    sub[[\n",
    "        'AADT', 'AAWT', 'TR_pct_AADT', 'TR_pct_AAWT', 'geometry',\n",
    "        'raw_name', 'raw_oneway', 'raw_direction', 'osm_name', 'osm_type', 'osm_lanes', 'osm_oneway', 'osm_distance', 'osm_maxspeed', 'osmid'\n",
    "        ]].to_file(f'treated/Rouen_AADT_AAWT_{year}.geojson', index=False)"
   ]
  }
 ],
 "metadata": {
  "kernelspec": {
   "display_name": "base",
   "language": "python",
   "name": "python3"
  },
  "language_info": {
   "codemirror_mode": {
    "name": "ipython",
    "version": 3
   },
   "file_extension": ".py",
   "mimetype": "text/x-python",
   "name": "python",
   "nbconvert_exporter": "python",
   "pygments_lexer": "ipython3",
   "version": "3.12.8"
  }
 },
 "nbformat": 4,
 "nbformat_minor": 2
}
