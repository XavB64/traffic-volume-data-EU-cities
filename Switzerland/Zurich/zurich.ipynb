{
 "cells": [
  {
   "cell_type": "markdown",
   "metadata": {},
   "source": [
    "# Librairies"
   ]
  },
  {
   "cell_type": "code",
   "execution_count": 1,
   "metadata": {},
   "outputs": [],
   "source": [
    "import geopandas as gpd\n",
    "import numpy as np\n",
    "from tqdm import tqdm\n",
    "import pandas as pd\n",
    "import matplotlib.pylab as plt"
   ]
  },
  {
   "cell_type": "markdown",
   "metadata": {},
   "source": [
    "# Load data"
   ]
  },
  {
   "cell_type": "raw",
   "metadata": {},
   "source": [
    "The data sets available here include the daily updated measured values for motorised individual traffic (MIV) in the city of Zurich, \n",
    "which were measured by the numerous counting offices of the Transport Department (DAV).\n",
    "\n",
    "The update includes the data from the previous day (e.g. on 17.01.2025 the data up to and with the completed 16.01.2025 are delivered). \n",
    "The latest data is available at 08:00 at the latest in the morning.\n",
    "\n",
    "A counting point includes several measuring points, which in turn make measurements with so-called detectors. The available data sets \n",
    "contain the measured values per counting point. For each counting point, there is a detailed PDF situation plan in the file \n",
    "\"Zaehlstellen-Detail.zip\", which shows, among other things, the exact location of the detectors.\n"
   ]
  },
  {
   "cell_type": "code",
   "execution_count": 2,
   "metadata": {},
   "outputs": [
    {
     "name": "stderr",
     "output_type": "stream",
     "text": [
      "C:\\Users\\xbonnema\\AppData\\Local\\Temp\\ipykernel_32136\\2030392143.py:1: DtypeWarning: Columns (5,14) have mixed types. Specify dtype option on import or set low_memory=False.\n",
      "  df = pd.read_csv('raw/sid_dav_verkehrszaehlung_miv_od2031_2024.csv')\n"
     ]
    }
   ],
   "source": [
    "df = pd.read_csv('raw/sid_dav_verkehrszaehlung_miv_od2031_2024.csv')"
   ]
  },
  {
   "cell_type": "code",
   "execution_count": 3,
   "metadata": {},
   "outputs": [
    {
     "name": "stdout",
     "output_type": "stream",
     "text": [
      "Index(['MSID', 'MSName', 'ZSID', 'ZSName', 'Achse', 'HNr', 'Hoehe', 'EKoord',\n",
      "       'NKoord', 'Richtung', 'Knummer', 'Kname', 'AnzDetektoren', 'D1ID',\n",
      "       'D2ID', 'D3ID', 'D4ID', 'MessungDatZeit', 'LieferDat', 'AnzFahrzeuge',\n",
      "       'AnzFahrzeugeStatus'],\n",
      "      dtype='object')\n"
     ]
    }
   ],
   "source": [
    "print(df.columns)\n",
    "\n",
    "translations = [\n",
    "    \"Station_ID\",        # MSID\n",
    "    \"Measurement Station Name\",      # MSName\n",
    "    \"Counting Station ID\",           # ZSID\n",
    "    \"Street_name\",         # ZSName\n",
    "    \"Axis\",                          # Achse\n",
    "    \"House Number\",                  # HNr\n",
    "    \"Height\",                        # Hoehe\n",
    "    \"East Coordinate\",               # EKoord\n",
    "    \"North Coordinate\",              # NKoord\n",
    "    \"Direction\",                     # Richtung\n",
    "    \"Counting Number\",               # Knummer\n",
    "    \"Counting Name\",                 # Kname\n",
    "    \"Number of Detectors\",           # AnzDetektoren\n",
    "    \"Detector ID 1\",                 # D1ID\n",
    "    \"Detector ID 2\",                 # D2ID\n",
    "    \"Detector ID 3\",                 # D3ID\n",
    "    \"Detector ID 4\",                 # D4ID\n",
    "    \"Time\",         # MessungDatZeit\n",
    "    \"Delivery Date\",                 # LieferDat\n",
    "    \"Number of Vehicles\",            # AnzFahrzeuge\n",
    "    \"Status of Vehicle Count\"        # AnzFahrzeugeStatus\n",
    "]\n",
    "\n",
    "\n",
    "df.columns = translations"
   ]
  },
  {
   "cell_type": "code",
   "execution_count": 4,
   "metadata": {},
   "outputs": [
    {
     "data": {
      "text/plain": [
       "1844430"
      ]
     },
     "execution_count": 4,
     "metadata": {},
     "output_type": "execute_result"
    }
   ],
   "source": [
    "df['Station_ID'].unique().size * df[\"Time\"].unique().size"
   ]
  },
  {
   "cell_type": "code",
   "execution_count": 5,
   "metadata": {},
   "outputs": [
    {
     "data": {
      "text/plain": [
       "1799789"
      ]
     },
     "execution_count": 5,
     "metadata": {},
     "output_type": "execute_result"
    }
   ],
   "source": [
    "df.shape[0]"
   ]
  },
  {
   "cell_type": "code",
   "execution_count": 6,
   "metadata": {},
   "outputs": [
    {
     "data": {
      "text/plain": [
       "210"
      ]
     },
     "execution_count": 6,
     "metadata": {},
     "output_type": "execute_result"
    }
   ],
   "source": [
    "df['Station_ID'].unique().size"
   ]
  },
  {
   "cell_type": "code",
   "execution_count": 7,
   "metadata": {},
   "outputs": [
    {
     "data": {
      "text/html": [
       "<div>\n",
       "<style scoped>\n",
       "    .dataframe tbody tr th:only-of-type {\n",
       "        vertical-align: middle;\n",
       "    }\n",
       "\n",
       "    .dataframe tbody tr th {\n",
       "        vertical-align: top;\n",
       "    }\n",
       "\n",
       "    .dataframe thead th {\n",
       "        text-align: right;\n",
       "    }\n",
       "</style>\n",
       "<table border=\"1\" class=\"dataframe\">\n",
       "  <thead>\n",
       "    <tr style=\"text-align: right;\">\n",
       "      <th></th>\n",
       "      <th>East Coordinate</th>\n",
       "      <th>North Coordinate</th>\n",
       "    </tr>\n",
       "  </thead>\n",
       "  <tbody>\n",
       "    <tr>\n",
       "      <th>0</th>\n",
       "      <td>2683009.890</td>\n",
       "      <td>1243936.200</td>\n",
       "    </tr>\n",
       "    <tr>\n",
       "      <th>8784</th>\n",
       "      <td>2683013.180</td>\n",
       "      <td>1243937.640</td>\n",
       "    </tr>\n",
       "    <tr>\n",
       "      <th>17568</th>\n",
       "      <td>2682480.510</td>\n",
       "      <td>1243162.500</td>\n",
       "    </tr>\n",
       "    <tr>\n",
       "      <th>26352</th>\n",
       "      <td>2682484.910</td>\n",
       "      <td>1243162.410</td>\n",
       "    </tr>\n",
       "    <tr>\n",
       "      <th>35136</th>\n",
       "      <td>2681573.790</td>\n",
       "      <td>1242969.910</td>\n",
       "    </tr>\n",
       "    <tr>\n",
       "      <th>...</th>\n",
       "      <td>...</td>\n",
       "      <td>...</td>\n",
       "    </tr>\n",
       "    <tr>\n",
       "      <th>1786610</th>\n",
       "      <td>2682115.540</td>\n",
       "      <td>1247071.906</td>\n",
       "    </tr>\n",
       "    <tr>\n",
       "      <th>1789899</th>\n",
       "      <td>2682106.390</td>\n",
       "      <td>1247095.039</td>\n",
       "    </tr>\n",
       "    <tr>\n",
       "      <th>1793188</th>\n",
       "      <td>2685376.041</td>\n",
       "      <td>1251634.045</td>\n",
       "    </tr>\n",
       "    <tr>\n",
       "      <th>1796861</th>\n",
       "      <td>2684566.331</td>\n",
       "      <td>1252126.196</td>\n",
       "    </tr>\n",
       "    <tr>\n",
       "      <th>1798325</th>\n",
       "      <td>2684519.786</td>\n",
       "      <td>1252129.416</td>\n",
       "    </tr>\n",
       "  </tbody>\n",
       "</table>\n",
       "<p>209 rows × 2 columns</p>\n",
       "</div>"
      ],
      "text/plain": [
       "         East Coordinate  North Coordinate\n",
       "0            2683009.890       1243936.200\n",
       "8784         2683013.180       1243937.640\n",
       "17568        2682480.510       1243162.500\n",
       "26352        2682484.910       1243162.410\n",
       "35136        2681573.790       1242969.910\n",
       "...                  ...               ...\n",
       "1786610      2682115.540       1247071.906\n",
       "1789899      2682106.390       1247095.039\n",
       "1793188      2685376.041       1251634.045\n",
       "1796861      2684566.331       1252126.196\n",
       "1798325      2684519.786       1252129.416\n",
       "\n",
       "[209 rows x 2 columns]"
      ]
     },
     "execution_count": 7,
     "metadata": {},
     "output_type": "execute_result"
    }
   ],
   "source": [
    "df[[\"East Coordinate\",               # EKoord\n",
    "    \"North Coordinate\"]].drop_duplicates()\n",
    "\n",
    "# CRS --> (CH1903+/LV95)"
   ]
  },
  {
   "cell_type": "code",
   "execution_count": 8,
   "metadata": {},
   "outputs": [],
   "source": [
    "df.Time = pd.to_datetime(df.Time)"
   ]
  },
  {
   "cell_type": "code",
   "execution_count": 9,
   "metadata": {},
   "outputs": [],
   "source": [
    "agg = df.set_index(['Station_ID', 'Time', 'Direction'])[['Number of Vehicles']]"
   ]
  },
  {
   "cell_type": "code",
   "execution_count": 10,
   "metadata": {},
   "outputs": [],
   "source": [
    "# Some of them are dupliacted, we should take the average\n",
    "agg = agg.groupby(['Station_ID', 'Time', 'Direction']).mean()"
   ]
  },
  {
   "cell_type": "code",
   "execution_count": 11,
   "metadata": {},
   "outputs": [],
   "source": [
    "# One detextor corresponds to one direection\n",
    "for k in agg.index.levels[0]:\n",
    "    if agg.loc[k].index.get_level_values(1).unique().size != 1 :\n",
    "        print(k)"
   ]
  },
  {
   "cell_type": "code",
   "execution_count": 12,
   "metadata": {},
   "outputs": [],
   "source": [
    "import sys\n",
    "from pathlib import Path\n",
    "\n",
    "# Add the ../assets directory to sys.path\n",
    "sys.path.append(str(Path(\"../../assets\").resolve()))\n",
    "\n",
    "from temporal_agg import hourly_to_aadt"
   ]
  },
  {
   "cell_type": "code",
   "execution_count": 13,
   "metadata": {},
   "outputs": [
    {
     "data": {
      "text/plain": [
       "0"
      ]
     },
     "execution_count": 13,
     "metadata": {},
     "output_type": "execute_result"
    }
   ],
   "source": [
    "# thanks to the groupby there is no duplicated index anymore\n",
    "agg.index.duplicated().sum()"
   ]
  },
  {
   "cell_type": "code",
   "execution_count": 14,
   "metadata": {},
   "outputs": [
    {
     "name": "stdout",
     "output_type": "stream",
     "text": [
      "Hourly capture rate is 89.7 %\n",
      "Daily capture rate is 91.9 %\n"
     ]
    }
   ],
   "source": [
    "agg, _, _ = hourly_to_aadt(\n",
    "    agg.reset_index(level = 2),\n",
    "    sensor_id_name = 'Station_ID', \n",
    "    time_name = 'Time', \n",
    "    counts_name = ['Number of Vehicles'], \n",
    "    speeds_name = {}\n",
    ")"
   ]
  },
  {
   "cell_type": "code",
   "execution_count": 15,
   "metadata": {},
   "outputs": [
    {
     "data": {
      "text/html": [
       "<div>\n",
       "<style scoped>\n",
       "    .dataframe tbody tr th:only-of-type {\n",
       "        vertical-align: middle;\n",
       "    }\n",
       "\n",
       "    .dataframe tbody tr th {\n",
       "        vertical-align: top;\n",
       "    }\n",
       "\n",
       "    .dataframe thead th {\n",
       "        text-align: right;\n",
       "    }\n",
       "</style>\n",
       "<table border=\"1\" class=\"dataframe\">\n",
       "  <thead>\n",
       "    <tr style=\"text-align: right;\">\n",
       "      <th></th>\n",
       "      <th>Number of Vehicles</th>\n",
       "      <th>Number of Vehicles_AAWT</th>\n",
       "    </tr>\n",
       "    <tr>\n",
       "      <th>Station_ID</th>\n",
       "      <th></th>\n",
       "      <th></th>\n",
       "    </tr>\n",
       "  </thead>\n",
       "  <tbody>\n",
       "    <tr>\n",
       "      <th>Z001M001</th>\n",
       "      <td>6525.781931</td>\n",
       "      <td>6904.746725</td>\n",
       "    </tr>\n",
       "    <tr>\n",
       "      <th>Z001M002</th>\n",
       "      <td>7983.306250</td>\n",
       "      <td>8540.035088</td>\n",
       "    </tr>\n",
       "    <tr>\n",
       "      <th>Z002M001</th>\n",
       "      <td>5347.211111</td>\n",
       "      <td>5747.753876</td>\n",
       "    </tr>\n",
       "    <tr>\n",
       "      <th>Z002M002</th>\n",
       "      <td>6437.848611</td>\n",
       "      <td>6862.313953</td>\n",
       "    </tr>\n",
       "    <tr>\n",
       "      <th>Z003M001</th>\n",
       "      <td>3765.486111</td>\n",
       "      <td>3980.346899</td>\n",
       "    </tr>\n",
       "    <tr>\n",
       "      <th>...</th>\n",
       "      <td>...</td>\n",
       "      <td>...</td>\n",
       "    </tr>\n",
       "    <tr>\n",
       "      <th>Z108M005</th>\n",
       "      <td>4076.890728</td>\n",
       "      <td>4431.916667</td>\n",
       "    </tr>\n",
       "    <tr>\n",
       "      <th>Z109M002</th>\n",
       "      <td>7258.766423</td>\n",
       "      <td>7147.701031</td>\n",
       "    </tr>\n",
       "    <tr>\n",
       "      <th>Z109M003</th>\n",
       "      <td>9108.518248</td>\n",
       "      <td>9269.886598</td>\n",
       "    </tr>\n",
       "    <tr>\n",
       "      <th>Z110M003</th>\n",
       "      <td>3478.362745</td>\n",
       "      <td>3643.697248</td>\n",
       "    </tr>\n",
       "    <tr>\n",
       "      <th>Z111M001</th>\n",
       "      <td>4358.409836</td>\n",
       "      <td>4691.651163</td>\n",
       "    </tr>\n",
       "  </tbody>\n",
       "</table>\n",
       "<p>205 rows × 2 columns</p>\n",
       "</div>"
      ],
      "text/plain": [
       "            Number of Vehicles  Number of Vehicles_AAWT\n",
       "Station_ID                                             \n",
       "Z001M001           6525.781931              6904.746725\n",
       "Z001M002           7983.306250              8540.035088\n",
       "Z002M001           5347.211111              5747.753876\n",
       "Z002M002           6437.848611              6862.313953\n",
       "Z003M001           3765.486111              3980.346899\n",
       "...                        ...                      ...\n",
       "Z108M005           4076.890728              4431.916667\n",
       "Z109M002           7258.766423              7147.701031\n",
       "Z109M003           9108.518248              9269.886598\n",
       "Z110M003           3478.362745              3643.697248\n",
       "Z111M001           4358.409836              4691.651163\n",
       "\n",
       "[205 rows x 2 columns]"
      ]
     },
     "execution_count": 15,
     "metadata": {},
     "output_type": "execute_result"
    }
   ],
   "source": [
    "agg\n",
    "# We have less senors as some were removed due to missing values"
   ]
  },
  {
   "cell_type": "code",
   "execution_count": 16,
   "metadata": {},
   "outputs": [
    {
     "data": {
      "text/plain": [
       "False"
      ]
     },
     "execution_count": 16,
     "metadata": {},
     "output_type": "execute_result"
    }
   ],
   "source": [
    "'Z111M002' in agg.index"
   ]
  },
  {
   "cell_type": "code",
   "execution_count": 17,
   "metadata": {},
   "outputs": [
    {
     "data": {
      "text/plain": [
       "True"
      ]
     },
     "execution_count": 17,
     "metadata": {},
     "output_type": "execute_result"
    }
   ],
   "source": [
    "df[df.Station_ID == 'Z111M002']['Number of Vehicles'].isna().sum() == df[df.Station_ID == 'Z111M002'].shape[0]"
   ]
  },
  {
   "cell_type": "markdown",
   "metadata": {},
   "source": [
    "# Referential"
   ]
  },
  {
   "cell_type": "code",
   "execution_count": 18,
   "metadata": {},
   "outputs": [],
   "source": [
    "gdf = gpd.GeoDataFrame(\n",
    "    df.drop_duplicates(subset = ['Station_ID'])[[\"Station_ID\", \"Street_name\", \"Direction\"]],\n",
    "    geometry = gpd.points_from_xy(df.drop_duplicates(subset = ['Station_ID'])[\"East Coordinate\"], df.drop_duplicates(subset = ['Station_ID'])[\"North Coordinate\"]),\n",
    "    crs = 'EPSG:2056'\n",
    ").to_crs('epsg:4326')"
   ]
  },
  {
   "cell_type": "code",
   "execution_count": 19,
   "metadata": {},
   "outputs": [
    {
     "data": {
      "text/plain": [
       "210"
      ]
     },
     "execution_count": 19,
     "metadata": {},
     "output_type": "execute_result"
    }
   ],
   "source": [
    "gdf.Station_ID.unique().size"
   ]
  },
  {
   "cell_type": "code",
   "execution_count": 20,
   "metadata": {},
   "outputs": [
    {
     "data": {
      "text/html": [
       "<div>\n",
       "<style scoped>\n",
       "    .dataframe tbody tr th:only-of-type {\n",
       "        vertical-align: middle;\n",
       "    }\n",
       "\n",
       "    .dataframe tbody tr th {\n",
       "        vertical-align: top;\n",
       "    }\n",
       "\n",
       "    .dataframe thead th {\n",
       "        text-align: right;\n",
       "    }\n",
       "</style>\n",
       "<table border=\"1\" class=\"dataframe\">\n",
       "  <thead>\n",
       "    <tr style=\"text-align: right;\">\n",
       "      <th></th>\n",
       "      <th>Station_ID</th>\n",
       "      <th>Street_name</th>\n",
       "      <th>Direction</th>\n",
       "      <th>geometry</th>\n",
       "    </tr>\n",
       "  </thead>\n",
       "  <tbody>\n",
       "    <tr>\n",
       "      <th>0</th>\n",
       "      <td>Z001M001</td>\n",
       "      <td>Seestrasse (Strandbad Wollishofen)</td>\n",
       "      <td>auswärts</td>\n",
       "      <td>POINT (8.53707 47.34106)</td>\n",
       "    </tr>\n",
       "    <tr>\n",
       "      <th>8784</th>\n",
       "      <td>Z001M002</td>\n",
       "      <td>Seestrasse (Strandbad Wollishofen)</td>\n",
       "      <td>einwärts</td>\n",
       "      <td>POINT (8.53711 47.34107)</td>\n",
       "    </tr>\n",
       "    <tr>\n",
       "      <th>17568</th>\n",
       "      <td>Z002M001</td>\n",
       "      <td>Albisstrasse (Widmerstrasse)</td>\n",
       "      <td>auswärts</td>\n",
       "      <td>POINT (8.52992 47.33417)</td>\n",
       "    </tr>\n",
       "    <tr>\n",
       "      <th>26352</th>\n",
       "      <td>Z002M002</td>\n",
       "      <td>Albisstrasse (Widmerstrasse)</td>\n",
       "      <td>einwärts</td>\n",
       "      <td>POINT (8.52998 47.33417)</td>\n",
       "    </tr>\n",
       "    <tr>\n",
       "      <th>35136</th>\n",
       "      <td>Z003M001</td>\n",
       "      <td>Sood-/Leimbachstrasse</td>\n",
       "      <td>auswärts</td>\n",
       "      <td>POINT (8.51789 47.33255)</td>\n",
       "    </tr>\n",
       "    <tr>\n",
       "      <th>...</th>\n",
       "      <td>...</td>\n",
       "      <td>...</td>\n",
       "      <td>...</td>\n",
       "      <td>...</td>\n",
       "    </tr>\n",
       "    <tr>\n",
       "      <th>1786610</th>\n",
       "      <td>Z109M002</td>\n",
       "      <td>Manessestrasse - Schimmelstrasse</td>\n",
       "      <td>Schimmelstrasse</td>\n",
       "      <td>POINT (8.52581 47.36937)</td>\n",
       "    </tr>\n",
       "    <tr>\n",
       "      <th>1789899</th>\n",
       "      <td>Z109M003</td>\n",
       "      <td>Manessestrasse - Schimmelstrasse</td>\n",
       "      <td>Schimmelstrasse</td>\n",
       "      <td>POINT (8.52569 47.36958)</td>\n",
       "    </tr>\n",
       "    <tr>\n",
       "      <th>1793188</th>\n",
       "      <td>Z110M003</td>\n",
       "      <td>Autobahn A1L - Ausfahrt Aubrugg</td>\n",
       "      <td>auswärts</td>\n",
       "      <td>POINT (8.56984 47.40999)</td>\n",
       "    </tr>\n",
       "    <tr>\n",
       "      <th>1796861</th>\n",
       "      <td>Z111M001</td>\n",
       "      <td>Hagenholzstrasse (Riedgrabenweg)</td>\n",
       "      <td>auswärts</td>\n",
       "      <td>POINT (8.55921 47.41452)</td>\n",
       "    </tr>\n",
       "    <tr>\n",
       "      <th>1798325</th>\n",
       "      <td>Z111M002</td>\n",
       "      <td>Hagenholzstrasse (Riedgrabenweg)</td>\n",
       "      <td>einwärts (ohne Busse)</td>\n",
       "      <td>POINT (8.55859 47.41455)</td>\n",
       "    </tr>\n",
       "  </tbody>\n",
       "</table>\n",
       "<p>210 rows × 4 columns</p>\n",
       "</div>"
      ],
      "text/plain": [
       "        Station_ID                         Street_name              Direction  \\\n",
       "0         Z001M001  Seestrasse (Strandbad Wollishofen)               auswärts   \n",
       "8784      Z001M002  Seestrasse (Strandbad Wollishofen)               einwärts   \n",
       "17568     Z002M001        Albisstrasse (Widmerstrasse)               auswärts   \n",
       "26352     Z002M002        Albisstrasse (Widmerstrasse)               einwärts   \n",
       "35136     Z003M001               Sood-/Leimbachstrasse               auswärts   \n",
       "...            ...                                 ...                    ...   \n",
       "1786610   Z109M002    Manessestrasse - Schimmelstrasse        Schimmelstrasse   \n",
       "1789899   Z109M003    Manessestrasse - Schimmelstrasse        Schimmelstrasse   \n",
       "1793188   Z110M003     Autobahn A1L - Ausfahrt Aubrugg               auswärts   \n",
       "1796861   Z111M001    Hagenholzstrasse (Riedgrabenweg)               auswärts   \n",
       "1798325   Z111M002    Hagenholzstrasse (Riedgrabenweg)  einwärts (ohne Busse)   \n",
       "\n",
       "                         geometry  \n",
       "0        POINT (8.53707 47.34106)  \n",
       "8784     POINT (8.53711 47.34107)  \n",
       "17568    POINT (8.52992 47.33417)  \n",
       "26352    POINT (8.52998 47.33417)  \n",
       "35136    POINT (8.51789 47.33255)  \n",
       "...                           ...  \n",
       "1786610  POINT (8.52581 47.36937)  \n",
       "1789899  POINT (8.52569 47.36958)  \n",
       "1793188  POINT (8.56984 47.40999)  \n",
       "1796861  POINT (8.55921 47.41452)  \n",
       "1798325  POINT (8.55859 47.41455)  \n",
       "\n",
       "[210 rows x 4 columns]"
      ]
     },
     "execution_count": 20,
     "metadata": {},
     "output_type": "execute_result"
    }
   ],
   "source": [
    "gdf"
   ]
  },
  {
   "cell_type": "markdown",
   "metadata": {},
   "source": [
    "# Map matching with OSM"
   ]
  },
  {
   "cell_type": "code",
   "execution_count": 21,
   "metadata": {},
   "outputs": [],
   "source": [
    "from map_matching_OSM import points_matching"
   ]
  },
  {
   "cell_type": "code",
   "execution_count": 22,
   "metadata": {},
   "outputs": [
    {
     "name": "stdout",
     "output_type": "stream",
     "text": [
      "City downloaded\n"
     ]
    },
    {
     "name": "stderr",
     "output_type": "stream",
     "text": [
      "100%|██████████| 210/210 [00:01<00:00, 110.53it/s]"
     ]
    },
    {
     "name": "stdout",
     "output_type": "stream",
     "text": [
      "We failed to match 0 sensors\n",
      "...on a total of 210 sensors\n"
     ]
    },
    {
     "name": "stderr",
     "output_type": "stream",
     "text": [
      "\n"
     ]
    }
   ],
   "source": [
    "gdf = points_matching(gdf)"
   ]
  },
  {
   "cell_type": "code",
   "execution_count": 23,
   "metadata": {},
   "outputs": [
    {
     "data": {
      "text/html": [
       "<div>\n",
       "<style scoped>\n",
       "    .dataframe tbody tr th:only-of-type {\n",
       "        vertical-align: middle;\n",
       "    }\n",
       "\n",
       "    .dataframe tbody tr th {\n",
       "        vertical-align: top;\n",
       "    }\n",
       "\n",
       "    .dataframe thead th {\n",
       "        text-align: right;\n",
       "    }\n",
       "</style>\n",
       "<table border=\"1\" class=\"dataframe\">\n",
       "  <thead>\n",
       "    <tr style=\"text-align: right;\">\n",
       "      <th></th>\n",
       "      <th>Street_name</th>\n",
       "      <th>osm_name</th>\n",
       "    </tr>\n",
       "  </thead>\n",
       "  <tbody>\n",
       "    <tr>\n",
       "      <th>0</th>\n",
       "      <td>Seestrasse (Strandbad Wollishofen)</td>\n",
       "      <td>Seestrasse</td>\n",
       "    </tr>\n",
       "    <tr>\n",
       "      <th>17568</th>\n",
       "      <td>Albisstrasse (Widmerstrasse)</td>\n",
       "      <td>Albisstrasse</td>\n",
       "    </tr>\n",
       "    <tr>\n",
       "      <th>35136</th>\n",
       "      <td>Sood-/Leimbachstrasse</td>\n",
       "      <td>Soodstrasse</td>\n",
       "    </tr>\n",
       "    <tr>\n",
       "      <th>43920</th>\n",
       "      <td>Sood-/Leimbachstrasse</td>\n",
       "      <td>Leimbachstrasse</td>\n",
       "    </tr>\n",
       "    <tr>\n",
       "      <th>61488</th>\n",
       "      <td>Birmensdorferstrasse (Triemli)</td>\n",
       "      <td>Birmensdorferstrasse</td>\n",
       "    </tr>\n",
       "    <tr>\n",
       "      <th>...</th>\n",
       "      <td>...</td>\n",
       "      <td>...</td>\n",
       "    </tr>\n",
       "    <tr>\n",
       "      <th>1777826</th>\n",
       "      <td>Tobelhofstrasse (Dreiwiesenstrasse)</td>\n",
       "      <td>Tobelhofstrasse</td>\n",
       "    </tr>\n",
       "    <tr>\n",
       "      <th>1786610</th>\n",
       "      <td>Manessestrasse - Schimmelstrasse</td>\n",
       "      <td>Manessestrasse</td>\n",
       "    </tr>\n",
       "    <tr>\n",
       "      <th>1789899</th>\n",
       "      <td>Manessestrasse - Schimmelstrasse</td>\n",
       "      <td>Schimmelstrasse</td>\n",
       "    </tr>\n",
       "    <tr>\n",
       "      <th>1793188</th>\n",
       "      <td>Autobahn A1L - Ausfahrt Aubrugg</td>\n",
       "      <td>Ueberlandstrasse</td>\n",
       "    </tr>\n",
       "    <tr>\n",
       "      <th>1796861</th>\n",
       "      <td>Hagenholzstrasse (Riedgrabenweg)</td>\n",
       "      <td>Hagenholzstrasse</td>\n",
       "    </tr>\n",
       "  </tbody>\n",
       "</table>\n",
       "<p>114 rows × 2 columns</p>\n",
       "</div>"
      ],
      "text/plain": [
       "                                 Street_name              osm_name\n",
       "0         Seestrasse (Strandbad Wollishofen)            Seestrasse\n",
       "17568           Albisstrasse (Widmerstrasse)          Albisstrasse\n",
       "35136                  Sood-/Leimbachstrasse           Soodstrasse\n",
       "43920                  Sood-/Leimbachstrasse       Leimbachstrasse\n",
       "61488         Birmensdorferstrasse (Triemli)  Birmensdorferstrasse\n",
       "...                                      ...                   ...\n",
       "1777826  Tobelhofstrasse (Dreiwiesenstrasse)       Tobelhofstrasse\n",
       "1786610     Manessestrasse - Schimmelstrasse        Manessestrasse\n",
       "1789899     Manessestrasse - Schimmelstrasse       Schimmelstrasse\n",
       "1793188      Autobahn A1L - Ausfahrt Aubrugg      Ueberlandstrasse\n",
       "1796861     Hagenholzstrasse (Riedgrabenweg)      Hagenholzstrasse\n",
       "\n",
       "[114 rows x 2 columns]"
      ]
     },
     "execution_count": 23,
     "metadata": {},
     "output_type": "execute_result"
    }
   ],
   "source": [
    "gdf[['Street_name', 'osm_name']].drop_duplicates().dropna()"
   ]
  },
  {
   "cell_type": "code",
   "execution_count": 24,
   "metadata": {},
   "outputs": [],
   "source": [
    "df = agg.join(\n",
    "    gdf.set_index('Station_ID')\n",
    ").rename(\n",
    "    columns = {'Number of Vehicles' : 'AADT', 'Number of Vehicles_AAWT':'AAWT',\n",
    "               'Street_name': 'raw_name', 'Direction':'raw_direction'},\n",
    ")"
   ]
  },
  {
   "cell_type": "code",
   "execution_count": 25,
   "metadata": {},
   "outputs": [],
   "source": [
    "df['raw_oneway'] = True"
   ]
  },
  {
   "cell_type": "markdown",
   "metadata": {},
   "source": [
    "# Final saving"
   ]
  },
  {
   "cell_type": "code",
   "execution_count": 26,
   "metadata": {},
   "outputs": [],
   "source": [
    "df = gpd.GeoDataFrame(\n",
    "    df, \n",
    "    geometry='geometry',\n",
    "    crs = 'epsg:4326'\n",
    ")"
   ]
  },
  {
   "cell_type": "code",
   "execution_count": 28,
   "metadata": {},
   "outputs": [
    {
     "name": "stdout",
     "output_type": "stream",
     "text": [
      "Number of NaN values for AADT: 0\n",
      "Number of NaN values for geometry: 0\n",
      "Number of low outliers for AADT: 0\n",
      "Number of high outliers for AADT: 0\n"
     ]
    }
   ],
   "source": [
    "from validate_dataset import validate_dataset\n",
    "\n",
    "df = validate_dataset(df)"
   ]
  },
  {
   "cell_type": "code",
   "execution_count": 29,
   "metadata": {},
   "outputs": [],
   "source": [
    "df.to_file(\n",
    "    'treated/Zurich_AADT_AAWT_2024.geojson', index = False\n",
    ")"
   ]
  }
 ],
 "metadata": {
  "kernelspec": {
   "display_name": "geodata",
   "language": "python",
   "name": "python3"
  },
  "language_info": {
   "codemirror_mode": {
    "name": "ipython",
    "version": 3
   },
   "file_extension": ".py",
   "mimetype": "text/x-python",
   "name": "python",
   "nbconvert_exporter": "python",
   "pygments_lexer": "ipython3",
   "version": "3.12.8"
  }
 },
 "nbformat": 4,
 "nbformat_minor": 2
}
