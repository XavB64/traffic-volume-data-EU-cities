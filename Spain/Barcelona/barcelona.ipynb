{
 "cells": [
  {
   "cell_type": "markdown",
   "metadata": {},
   "source": [
    "# Librairies"
   ]
  },
  {
   "cell_type": "code",
   "execution_count": 1,
   "metadata": {},
   "outputs": [],
   "source": [
    "import pandas as pd \n",
    "import geopandas as gpd\n",
    "import matplotlib.pylab as plt\n",
    "import numpy as np"
   ]
  },
  {
   "cell_type": "markdown",
   "metadata": {},
   "source": [
    "# Local data"
   ]
  },
  {
   "cell_type": "raw",
   "metadata": {},
   "source": [
    "Average daily traffic (ADT) for weekdays at different locations along the city's road network\n",
    "--> AAWT"
   ]
  },
  {
   "cell_type": "code",
   "execution_count": 2,
   "metadata": {},
   "outputs": [],
   "source": [
    "df = pd.read_csv('raw/imd_extract_platform.csv', delimiter=';', decimal = ',')"
   ]
  },
  {
   "cell_type": "code",
   "execution_count": 3,
   "metadata": {},
   "outputs": [
    {
     "data": {
      "text/html": [
       "<div>\n",
       "<style scoped>\n",
       "    .dataframe tbody tr th:only-of-type {\n",
       "        vertical-align: middle;\n",
       "    }\n",
       "\n",
       "    .dataframe tbody tr th {\n",
       "        vertical-align: top;\n",
       "    }\n",
       "\n",
       "    .dataframe thead th {\n",
       "        text-align: right;\n",
       "    }\n",
       "</style>\n",
       "<table border=\"1\" class=\"dataframe\">\n",
       "  <thead>\n",
       "    <tr style=\"text-align: right;\">\n",
       "      <th></th>\n",
       "      <th>Any</th>\n",
       "      <th>C. D'ARAGÓ</th>\n",
       "      <th>C. DE MALLORCA</th>\n",
       "      <th>C. DE VALÈNCIA</th>\n",
       "      <th>GRAN VIA DE LES CORTS CATALANES</th>\n",
       "      <th>R.G. MITRE (BESÒS)</th>\n",
       "      <th>R.G. MITRE (LLOBREGAT)</th>\n",
       "      <th>C. D'ARIBAU</th>\n",
       "      <th>C. D'ENTENÇA</th>\n",
       "      <th>C. DE BALMES</th>\n",
       "      <th>C. DE MUNTANER</th>\n",
       "      <th>C. DE NUMÀNCIA</th>\n",
       "    </tr>\n",
       "  </thead>\n",
       "  <tbody>\n",
       "    <tr>\n",
       "      <th>0</th>\n",
       "      <td>2018</td>\n",
       "      <td>84560.66667</td>\n",
       "      <td>16875.83000</td>\n",
       "      <td>31563.66667</td>\n",
       "      <td>58983.27273</td>\n",
       "      <td>24804.66667</td>\n",
       "      <td>19760.20000</td>\n",
       "      <td>23741.41667</td>\n",
       "      <td>13339.75000</td>\n",
       "      <td>35593.91917</td>\n",
       "      <td>25939.91667</td>\n",
       "      <td>29615.54167</td>\n",
       "    </tr>\n",
       "    <tr>\n",
       "      <th>1</th>\n",
       "      <td>2019</td>\n",
       "      <td>84251.54545</td>\n",
       "      <td>17795.33333</td>\n",
       "      <td>31408.92333</td>\n",
       "      <td>55321.27667</td>\n",
       "      <td>24779.33333</td>\n",
       "      <td>20241.33333</td>\n",
       "      <td>22817.41667</td>\n",
       "      <td>13999.66667</td>\n",
       "      <td>33366.88583</td>\n",
       "      <td>25022.18182</td>\n",
       "      <td>27370.41667</td>\n",
       "    </tr>\n",
       "    <tr>\n",
       "      <th>2</th>\n",
       "      <td>2020</td>\n",
       "      <td>60860.00000</td>\n",
       "      <td>16039.14417</td>\n",
       "      <td>22877.16667</td>\n",
       "      <td>42522.16667</td>\n",
       "      <td>19778.75000</td>\n",
       "      <td>17426.75000</td>\n",
       "      <td>17177.75000</td>\n",
       "      <td>11090.08333</td>\n",
       "      <td>23713.40500</td>\n",
       "      <td>18823.08333</td>\n",
       "      <td>18205.41917</td>\n",
       "    </tr>\n",
       "    <tr>\n",
       "      <th>3</th>\n",
       "      <td>2021</td>\n",
       "      <td>53182.33333</td>\n",
       "      <td>22062.50000</td>\n",
       "      <td>26026.54545</td>\n",
       "      <td>51316.91667</td>\n",
       "      <td>22322.58333</td>\n",
       "      <td>19186.25000</td>\n",
       "      <td>18752.50000</td>\n",
       "      <td>12073.07667</td>\n",
       "      <td>28152.16667</td>\n",
       "      <td>21157.33333</td>\n",
       "      <td>22455.54545</td>\n",
       "    </tr>\n",
       "    <tr>\n",
       "      <th>4</th>\n",
       "      <td>2022</td>\n",
       "      <td>62100.83333</td>\n",
       "      <td>23431.36667</td>\n",
       "      <td>28079.83333</td>\n",
       "      <td>51801.58333</td>\n",
       "      <td>22680.66667</td>\n",
       "      <td>19570.08333</td>\n",
       "      <td>19286.58333</td>\n",
       "      <td>14251.33333</td>\n",
       "      <td>30718.83333</td>\n",
       "      <td>18675.83333</td>\n",
       "      <td>23750.33333</td>\n",
       "    </tr>\n",
       "    <tr>\n",
       "      <th>5</th>\n",
       "      <td>2023</td>\n",
       "      <td>58958.91667</td>\n",
       "      <td>22138.63636</td>\n",
       "      <td>27418.58333</td>\n",
       "      <td>52459.83333</td>\n",
       "      <td>23479.75000</td>\n",
       "      <td>19087.00000</td>\n",
       "      <td>21802.33333</td>\n",
       "      <td>12148.83333</td>\n",
       "      <td>29844.83333</td>\n",
       "      <td>18746.72727</td>\n",
       "      <td>27055.08333</td>\n",
       "    </tr>\n",
       "    <tr>\n",
       "      <th>6</th>\n",
       "      <td>2024</td>\n",
       "      <td>59193.11111</td>\n",
       "      <td>16932.37500</td>\n",
       "      <td>27088.66667</td>\n",
       "      <td>53332.55556</td>\n",
       "      <td>22913.88889</td>\n",
       "      <td>18625.11111</td>\n",
       "      <td>21764.55556</td>\n",
       "      <td>11924.22222</td>\n",
       "      <td>29708.11111</td>\n",
       "      <td>17388.88889</td>\n",
       "      <td>24133.11111</td>\n",
       "    </tr>\n",
       "  </tbody>\n",
       "</table>\n",
       "</div>"
      ],
      "text/plain": [
       "    Any   C. D'ARAGÓ  C. DE MALLORCA  C. DE VALÈNCIA  \\\n",
       "0  2018  84560.66667     16875.83000     31563.66667   \n",
       "1  2019  84251.54545     17795.33333     31408.92333   \n",
       "2  2020  60860.00000     16039.14417     22877.16667   \n",
       "3  2021  53182.33333     22062.50000     26026.54545   \n",
       "4  2022  62100.83333     23431.36667     28079.83333   \n",
       "5  2023  58958.91667     22138.63636     27418.58333   \n",
       "6  2024  59193.11111     16932.37500     27088.66667   \n",
       "\n",
       "   GRAN VIA DE LES CORTS CATALANES  R.G. MITRE (BESÒS)  \\\n",
       "0                      58983.27273         24804.66667   \n",
       "1                      55321.27667         24779.33333   \n",
       "2                      42522.16667         19778.75000   \n",
       "3                      51316.91667         22322.58333   \n",
       "4                      51801.58333         22680.66667   \n",
       "5                      52459.83333         23479.75000   \n",
       "6                      53332.55556         22913.88889   \n",
       "\n",
       "   R.G. MITRE (LLOBREGAT)  C. D'ARIBAU  C. D'ENTENÇA  C. DE BALMES  \\\n",
       "0             19760.20000  23741.41667   13339.75000   35593.91917   \n",
       "1             20241.33333  22817.41667   13999.66667   33366.88583   \n",
       "2             17426.75000  17177.75000   11090.08333   23713.40500   \n",
       "3             19186.25000  18752.50000   12073.07667   28152.16667   \n",
       "4             19570.08333  19286.58333   14251.33333   30718.83333   \n",
       "5             19087.00000  21802.33333   12148.83333   29844.83333   \n",
       "6             18625.11111  21764.55556   11924.22222   29708.11111   \n",
       "\n",
       "   C. DE MUNTANER  C. DE NUMÀNCIA  \n",
       "0     25939.91667     29615.54167  \n",
       "1     25022.18182     27370.41667  \n",
       "2     18823.08333     18205.41917  \n",
       "3     21157.33333     22455.54545  \n",
       "4     18675.83333     23750.33333  \n",
       "5     18746.72727     27055.08333  \n",
       "6     17388.88889     24133.11111  "
      ]
     },
     "execution_count": 3,
     "metadata": {},
     "output_type": "execute_result"
    }
   ],
   "source": [
    "df"
   ]
  },
  {
   "cell_type": "code",
   "execution_count": 4,
   "metadata": {},
   "outputs": [],
   "source": [
    "df = pd.DataFrame(df.set_index('Any').unstack())\n",
    "df.reset_index(inplace=True)\n",
    "df.columns = ['NAME', 'year', 'AAWT']"
   ]
  },
  {
   "cell_type": "code",
   "execution_count": 5,
   "metadata": {},
   "outputs": [
    {
     "data": {
      "text/html": [
       "<div>\n",
       "<style scoped>\n",
       "    .dataframe tbody tr th:only-of-type {\n",
       "        vertical-align: middle;\n",
       "    }\n",
       "\n",
       "    .dataframe tbody tr th {\n",
       "        vertical-align: top;\n",
       "    }\n",
       "\n",
       "    .dataframe thead th {\n",
       "        text-align: right;\n",
       "    }\n",
       "</style>\n",
       "<table border=\"1\" class=\"dataframe\">\n",
       "  <thead>\n",
       "    <tr style=\"text-align: right;\">\n",
       "      <th></th>\n",
       "      <th>NAME</th>\n",
       "      <th>geometry</th>\n",
       "    </tr>\n",
       "  </thead>\n",
       "  <tbody>\n",
       "    <tr>\n",
       "      <th>0</th>\n",
       "      <td>C. D'ARAGÓ</td>\n",
       "      <td>LINESTRING (2.17178 41.39743, 2.14613 41.37819)</td>\n",
       "    </tr>\n",
       "    <tr>\n",
       "      <th>1</th>\n",
       "      <td>C. DE MALLORCA</td>\n",
       "      <td>LINESTRING (2.16879 41.3986, 2.15312 41.38675)</td>\n",
       "    </tr>\n",
       "    <tr>\n",
       "      <th>2</th>\n",
       "      <td>C. DE VALÈNCIA</td>\n",
       "      <td>LINESTRING (2.15417 41.38591, 2.17025 41.3979)</td>\n",
       "    </tr>\n",
       "    <tr>\n",
       "      <th>3</th>\n",
       "      <td>GRAN VIA DE LES CORTS CATALANES</td>\n",
       "      <td>LINESTRING (2.15029 41.37595, 2.16685 41.38841)</td>\n",
       "    </tr>\n",
       "    <tr>\n",
       "      <th>4</th>\n",
       "      <td>C. D'ARIBAU</td>\n",
       "      <td>LINESTRING (2.15937 41.38838, 2.15186 41.3941)</td>\n",
       "    </tr>\n",
       "    <tr>\n",
       "      <th>5</th>\n",
       "      <td>C. D'ENTENÇA</td>\n",
       "      <td>LINESTRING (2.14918 41.38065, 2.14289 41.38541)</td>\n",
       "    </tr>\n",
       "    <tr>\n",
       "      <th>6</th>\n",
       "      <td>C. DE BALMES</td>\n",
       "      <td>LINESTRING (2.14786 41.401, 2.15082 41.39888, ...</td>\n",
       "    </tr>\n",
       "    <tr>\n",
       "      <th>7</th>\n",
       "      <td>C. DE MUNTANER</td>\n",
       "      <td>LINESTRING (2.14335 41.39875, 2.14932 41.39425)</td>\n",
       "    </tr>\n",
       "    <tr>\n",
       "      <th>8</th>\n",
       "      <td>C. DE NUMÀNCIA</td>\n",
       "      <td>LINESTRING (2.13535 41.38676, 2.13895 41.3833)</td>\n",
       "    </tr>\n",
       "  </tbody>\n",
       "</table>\n",
       "</div>"
      ],
      "text/plain": [
       "                              NAME  \\\n",
       "0                       C. D'ARAGÓ   \n",
       "1                   C. DE MALLORCA   \n",
       "2                   C. DE VALÈNCIA   \n",
       "3  GRAN VIA DE LES CORTS CATALANES   \n",
       "4                      C. D'ARIBAU   \n",
       "5                     C. D'ENTENÇA   \n",
       "6                     C. DE BALMES   \n",
       "7                   C. DE MUNTANER   \n",
       "8                   C. DE NUMÀNCIA   \n",
       "\n",
       "                                            geometry  \n",
       "0    LINESTRING (2.17178 41.39743, 2.14613 41.37819)  \n",
       "1     LINESTRING (2.16879 41.3986, 2.15312 41.38675)  \n",
       "2     LINESTRING (2.15417 41.38591, 2.17025 41.3979)  \n",
       "3    LINESTRING (2.15029 41.37595, 2.16685 41.38841)  \n",
       "4     LINESTRING (2.15937 41.38838, 2.15186 41.3941)  \n",
       "5    LINESTRING (2.14918 41.38065, 2.14289 41.38541)  \n",
       "6  LINESTRING (2.14786 41.401, 2.15082 41.39888, ...  \n",
       "7    LINESTRING (2.14335 41.39875, 2.14932 41.39425)  \n",
       "8     LINESTRING (2.13535 41.38676, 2.13895 41.3833)  "
      ]
     },
     "execution_count": 5,
     "metadata": {},
     "output_type": "execute_result"
    }
   ],
   "source": [
    "ref = gpd.read_file('raw/custom_barcelona_referential.geojson')\n",
    "ref"
   ]
  },
  {
   "cell_type": "code",
   "execution_count": 6,
   "metadata": {},
   "outputs": [],
   "source": [
    "df = ref.set_index('NAME').join(df.set_index('NAME'), how = 'inner')"
   ]
  },
  {
   "cell_type": "code",
   "execution_count": 7,
   "metadata": {},
   "outputs": [],
   "source": [
    "df = df.reset_index().rename(columns = {'NAME':'raw_name'})"
   ]
  },
  {
   "cell_type": "markdown",
   "metadata": {},
   "source": [
    "# Map Matching with OSM"
   ]
  },
  {
   "cell_type": "code",
   "execution_count": 8,
   "metadata": {},
   "outputs": [],
   "source": [
    "import sys\n",
    "from pathlib import Path\n",
    "\n",
    "# Add the ../assets directory to sys.path\n",
    "sys.path.append(str(Path(\"../../assets\").resolve()))\n",
    "\n",
    "from map_matching_OSM import lines_matching"
   ]
  },
  {
   "cell_type": "code",
   "execution_count": 9,
   "metadata": {},
   "outputs": [
    {
     "name": "stdout",
     "output_type": "stream",
     "text": [
      "Main graph loaded\n",
      "Node 2007676329 not reachable from 928996468\n",
      "Node 1218605980 not reachable from 1224368798\n",
      "Node 1307474761 not reachable from 1224368798\n",
      "Node 1218605980 not reachable from 1224368798\n",
      "Node 2007676329 not reachable from 1224368798\n",
      "Node 2007676329 not reachable from 928996468\n",
      "Node 1218605980 not reachable from 1224368798\n",
      "Node 1307474761 not reachable from 1224368798\n",
      "Node 1218605980 not reachable from 1224368798\n",
      "Node 2007676329 not reachable from 1224368798\n",
      "Node 2007676329 not reachable from 928996468\n",
      "Node 1218605980 not reachable from 1224368798\n",
      "Node 1307474761 not reachable from 1224368798\n",
      "Node 1218605980 not reachable from 1224368798\n",
      "Node 2007676329 not reachable from 1224368798\n",
      "Node 2007676329 not reachable from 928996468\n",
      "Node 1218605980 not reachable from 1224368798\n",
      "Node 1307474761 not reachable from 1224368798\n",
      "Node 1218605980 not reachable from 1224368798\n",
      "Node 2007676329 not reachable from 1224368798\n",
      "Node 2007676329 not reachable from 928996468\n",
      "Node 1218605980 not reachable from 1224368798\n",
      "Node 1307474761 not reachable from 1224368798\n",
      "Node 1218605980 not reachable from 1224368798\n",
      "Node 2007676329 not reachable from 1224368798\n",
      "Node 2007676329 not reachable from 928996468\n",
      "Node 1218605980 not reachable from 1224368798\n",
      "Node 1307474761 not reachable from 1224368798\n",
      "Node 1218605980 not reachable from 1224368798\n",
      "Node 2007676329 not reachable from 1224368798\n",
      "Node 2007676329 not reachable from 928996468\n",
      "Node 1218605980 not reachable from 1224368798\n",
      "Node 1307474761 not reachable from 1224368798\n",
      "Node 1218605980 not reachable from 1224368798\n",
      "Node 2007676329 not reachable from 1224368798\n",
      "Node 1674354508 not reachable from 2058887259\n",
      "Node 1674354508 not reachable from 2039533722\n",
      "Node 1674354508 not reachable from 2058887259\n",
      "Node 1674354508 not reachable from 2039533722\n",
      "Node 1674354508 not reachable from 2058887259\n",
      "Node 1674354508 not reachable from 2039533722\n",
      "Node 1674354508 not reachable from 2058887259\n",
      "Node 1674354508 not reachable from 2039533722\n",
      "Node 1674354508 not reachable from 2058887259\n",
      "Node 1674354508 not reachable from 2039533722\n",
      "Node 1674354508 not reachable from 2058887259\n",
      "Node 1674354508 not reachable from 2039533722\n",
      "Node 1674354508 not reachable from 2058887259\n",
      "Node 1674354508 not reachable from 2039533722\n",
      "Node 634931030 not reachable from 636736737\n",
      "Node 1965778302 not reachable from 636736737\n",
      "Node 1965778302 not reachable from 636736737\n",
      "Node 1972855015 not reachable from 636736737\n",
      "Node 634931030 not reachable from 636736737\n",
      "Node 1965778302 not reachable from 636736737\n",
      "Node 1965778302 not reachable from 636736737\n",
      "Node 1972855015 not reachable from 636736737\n",
      "Node 634931030 not reachable from 636736737\n",
      "Node 1965778302 not reachable from 636736737\n",
      "Node 1965778302 not reachable from 636736737\n",
      "Node 1972855015 not reachable from 636736737\n",
      "Node 634931030 not reachable from 636736737\n",
      "Node 1965778302 not reachable from 636736737\n",
      "Node 1965778302 not reachable from 636736737\n",
      "Node 1972855015 not reachable from 636736737\n",
      "Node 634931030 not reachable from 636736737\n",
      "Node 1965778302 not reachable from 636736737\n",
      "Node 1965778302 not reachable from 636736737\n",
      "Node 1972855015 not reachable from 636736737\n",
      "Node 634931030 not reachable from 636736737\n",
      "Node 1965778302 not reachable from 636736737\n",
      "Node 1965778302 not reachable from 636736737\n",
      "Node 1972855015 not reachable from 636736737\n",
      "Node 634931030 not reachable from 636736737\n",
      "Node 1965778302 not reachable from 636736737\n",
      "Node 1965778302 not reachable from 636736737\n",
      "Node 1972855015 not reachable from 636736737\n",
      "Missing match 0\n",
      "...on a total of 63 sensors\n"
     ]
    }
   ],
   "source": [
    "# Custom geometries are long lines so it takes time\n",
    "df = lines_matching(df)"
   ]
  },
  {
   "cell_type": "code",
   "execution_count": 10,
   "metadata": {},
   "outputs": [
    {
     "data": {
      "text/html": [
       "<div>\n",
       "<style scoped>\n",
       "    .dataframe tbody tr th:only-of-type {\n",
       "        vertical-align: middle;\n",
       "    }\n",
       "\n",
       "    .dataframe tbody tr th {\n",
       "        vertical-align: top;\n",
       "    }\n",
       "\n",
       "    .dataframe thead th {\n",
       "        text-align: right;\n",
       "    }\n",
       "</style>\n",
       "<table border=\"1\" class=\"dataframe\">\n",
       "  <thead>\n",
       "    <tr style=\"text-align: right;\">\n",
       "      <th></th>\n",
       "      <th>raw_name</th>\n",
       "      <th>osm_name</th>\n",
       "    </tr>\n",
       "  </thead>\n",
       "  <tbody>\n",
       "    <tr>\n",
       "      <th>0</th>\n",
       "      <td>C. D'ARAGÓ</td>\n",
       "      <td>Carrer d'Aragó</td>\n",
       "    </tr>\n",
       "    <tr>\n",
       "      <th>7</th>\n",
       "      <td>C. DE MALLORCA</td>\n",
       "      <td>Carrer de Mallorca</td>\n",
       "    </tr>\n",
       "    <tr>\n",
       "      <th>14</th>\n",
       "      <td>C. DE VALÈNCIA</td>\n",
       "      <td>Carrer de València</td>\n",
       "    </tr>\n",
       "    <tr>\n",
       "      <th>21</th>\n",
       "      <td>GRAN VIA DE LES CORTS CATALANES</td>\n",
       "      <td>Gran Via de les Corts Catalanes</td>\n",
       "    </tr>\n",
       "    <tr>\n",
       "      <th>28</th>\n",
       "      <td>C. D'ARIBAU</td>\n",
       "      <td>Carrer d'Aribau</td>\n",
       "    </tr>\n",
       "    <tr>\n",
       "      <th>35</th>\n",
       "      <td>C. D'ENTENÇA</td>\n",
       "      <td>Carrer d'Entença</td>\n",
       "    </tr>\n",
       "    <tr>\n",
       "      <th>42</th>\n",
       "      <td>C. DE BALMES</td>\n",
       "      <td>Carrer de Balmes</td>\n",
       "    </tr>\n",
       "    <tr>\n",
       "      <th>49</th>\n",
       "      <td>C. DE MUNTANER</td>\n",
       "      <td>Carrer de Muntaner</td>\n",
       "    </tr>\n",
       "    <tr>\n",
       "      <th>56</th>\n",
       "      <td>C. DE NUMÀNCIA</td>\n",
       "      <td>Carrer de Numància</td>\n",
       "    </tr>\n",
       "  </tbody>\n",
       "</table>\n",
       "</div>"
      ],
      "text/plain": [
       "                           raw_name                         osm_name\n",
       "0                        C. D'ARAGÓ                   Carrer d'Aragó\n",
       "7                    C. DE MALLORCA               Carrer de Mallorca\n",
       "14                   C. DE VALÈNCIA               Carrer de València\n",
       "21  GRAN VIA DE LES CORTS CATALANES  Gran Via de les Corts Catalanes\n",
       "28                      C. D'ARIBAU                  Carrer d'Aribau\n",
       "35                     C. D'ENTENÇA                 Carrer d'Entença\n",
       "42                     C. DE BALMES                 Carrer de Balmes\n",
       "49                   C. DE MUNTANER               Carrer de Muntaner\n",
       "56                   C. DE NUMÀNCIA               Carrer de Numància"
      ]
     },
     "execution_count": 10,
     "metadata": {},
     "output_type": "execute_result"
    }
   ],
   "source": [
    "df[['raw_name', 'osm_name']].drop_duplicates()"
   ]
  },
  {
   "cell_type": "markdown",
   "metadata": {},
   "source": [
    "# Final Saving"
   ]
  },
  {
   "cell_type": "code",
   "execution_count": 11,
   "metadata": {},
   "outputs": [],
   "source": [
    "for year in df.year.unique():\n",
    "    sub = df[df.year == year]\n",
    "    # Save\n",
    "    sub[['AAWT', 'geometry', 'raw_name', 'osm_name', 'osm_type', 'osm_lanes', 'osm_oneway', 'osmid']].to_file(f'treated/Barcelona_AAWT_{year}.geojson', index = False)"
   ]
  },
  {
   "cell_type": "markdown",
   "metadata": {},
   "source": [
    "# Regional Data (not used)"
   ]
  },
  {
   "cell_type": "raw",
   "metadata": {},
   "source": [
    "1. PK Meaning:\n",
    "\n",
    "\"PK\" often stands for \"Punto Kilométrico\" in Spanish, which translates to\n",
    " \"Kilometer Point\" in English. It is used to denote the location along a \n",
    " road or highway in terms of distance from its starting point, similar to \n",
    " mile markers used in some countries. For example:\n",
    "\n",
    "    \"PK Start\" would be the starting kilometer point of a road section.\n",
    "    \"PK End\" would be the ending kilometer point of a road section.\n",
    "\n",
    "2. IFA and IMD:\n",
    "\n",
    "    IFA: If this is labeled as \"IFA\" in your data, it could potentially \n",
    "    stand for \"Intensidad de Flujo Anual\" (Annual Flow Intensity), which \n",
    "    aligns closely with AADT (Annual Average Daily Traffic). However, you might \n",
    "    want to confirm this from metadata or documentation associated with your dataset.\n",
    "\n",
    "    IMD: \"IMD\" is commonly used in Spanish traffic data to represent Intensidad Media \n",
    "    Diaria (Average Daily Traffic), which also corresponds to AADT in many cases. \n",
    "    This term is widely accepted in transport literature and could be a better fit \n",
    "    depending on the data context."
   ]
  },
  {
   "cell_type": "raw",
   "metadata": {},
   "source": [
    "Data from vehicle transit stations at the Xarxa de Carreteres de la Generalitat, \n",
    "which lasts from 2017 to 2022. In a joint quest includes data from the own stations \n",
    "in the collection of the intensive mitjana daily rate (IMD) of vehicles."
   ]
  },
  {
   "cell_type": "code",
   "execution_count": 24,
   "metadata": {},
   "outputs": [],
   "source": [
    "df = pd.read_csv('raw/Intensitat_Mitjana_Di_ria_de_Vehicles_a_les_carreteres.csv')"
   ]
  },
  {
   "cell_type": "code",
   "execution_count": 25,
   "metadata": {},
   "outputs": [
    {
     "data": {
      "image/png": "[encoded data removed]",
      "text/plain": [
       "<Figure size 640x480 with 1 Axes>"
      ]
     },
     "metadata": {},
     "output_type": "display_data"
    }
   ],
   "source": [
    "plt.hist(df.IFA, bins = 30)\n",
    "plt.hist(df.IMD, bins = 30, alpha = .3)\n",
    "plt.show()"
   ]
  },
  {
   "cell_type": "code",
   "execution_count": 26,
   "metadata": {},
   "outputs": [
    {
     "name": "stdout",
     "output_type": "stream",
     "text": [
      "Index(['Any', 'Codi', 'Carretera', 'Pk', 'Tipus estació', 'Font Dades',\n",
      "       'Població', 'Comarca', 'Definició Tram Origen', 'Definició Tram Final',\n",
      "       'PK inici', 'PK final', 'Longitud Tram', 'Classificació tècnica',\n",
      "       'Classificació funcional', 'Carrils', 'IFA', 'IMD', '% Pesants',\n",
      "       'Velocitat Km / h', 'Any 1', 'Latitud', 'Longitud'],\n",
      "      dtype='object')\n"
     ]
    }
   ],
   "source": [
    "print(df.columns)\n",
    "\n",
    "df.columns = ['Year', 'Code', 'Road', 'Pk', 'Station Type', 'Data Source',\n",
    " 'Population', 'Region', 'Origin Section Definition', 'Final Section Definition',\n",
    " 'PK Start', 'PK End', 'Section Length', 'Technical Classification',\n",
    " 'Functional Classification', 'Lanes', 'IFA', 'IMD', '% Heavy Vehicles',\n",
    " 'Speed Km/h', 'Year 1', 'Latitude', 'Longitude']"
   ]
  },
  {
   "cell_type": "code",
   "execution_count": 27,
   "metadata": {},
   "outputs": [
    {
     "data": {
      "text/plain": [
       "array([2018, 2020, 2021, 2022, 2017, 2019], dtype=int64)"
      ]
     },
     "execution_count": 27,
     "metadata": {},
     "output_type": "execute_result"
    }
   ],
   "source": [
    "df.Year.unique()"
   ]
  },
  {
   "cell_type": "code",
   "execution_count": 28,
   "metadata": {},
   "outputs": [
    {
     "data": {
      "text/plain": [
       "array(['Cobertura', 'Primària', 'Secundària', 'Permanent'], dtype=object)"
      ]
     },
     "execution_count": 28,
     "metadata": {},
     "output_type": "execute_result"
    }
   ],
   "source": [
    "df['Station Type'].unique()"
   ]
  },
  {
   "cell_type": "code",
   "execution_count": 29,
   "metadata": {},
   "outputs": [],
   "source": [
    "df.rename(columns= {\n",
    "     'IMD' : 'AADT', \n",
    "     '% Heavy Vehicles' : 'TR_pct_AADT', \n",
    "     'Speed Km/h' : 'savg',\n",
    "}, inplace=True)\n",
    "\n",
    "df.dropna(subset = ['AADT'], inplace=True)"
   ]
  },
  {
   "cell_type": "code",
   "execution_count": 30,
   "metadata": {},
   "outputs": [],
   "source": [
    "df = gpd.GeoDataFrame(\n",
    "    df[['Year' ,'AADT', 'TR_pct_AADT', 'savg']],\n",
    "    geometry = gpd.points_from_xy(df.Longitude, df.Latitude),\n",
    "    crs = 'epsg:4326'\n",
    ")"
   ]
  },
  {
   "cell_type": "code",
   "execution_count": 31,
   "metadata": {},
   "outputs": [
    {
     "data": {
      "text/html": [
       "<div>\n",
       "<style scoped>\n",
       "    .dataframe tbody tr th:only-of-type {\n",
       "        vertical-align: middle;\n",
       "    }\n",
       "\n",
       "    .dataframe tbody tr th {\n",
       "        vertical-align: top;\n",
       "    }\n",
       "\n",
       "    .dataframe thead th {\n",
       "        text-align: right;\n",
       "    }\n",
       "</style>\n",
       "<table border=\"1\" class=\"dataframe\">\n",
       "  <thead>\n",
       "    <tr style=\"text-align: right;\">\n",
       "      <th></th>\n",
       "      <th>Year</th>\n",
       "      <th>AADT</th>\n",
       "      <th>TR_pct_AADT</th>\n",
       "      <th>savg</th>\n",
       "      <th>geometry</th>\n",
       "    </tr>\n",
       "  </thead>\n",
       "  <tbody>\n",
       "    <tr>\n",
       "      <th>0</th>\n",
       "      <td>2018</td>\n",
       "      <td>177</td>\n",
       "      <td>0.01</td>\n",
       "      <td>60.40</td>\n",
       "      <td>POINT (1.00289 41.29130)</td>\n",
       "    </tr>\n",
       "    <tr>\n",
       "      <th>1</th>\n",
       "      <td>2020</td>\n",
       "      <td>177</td>\n",
       "      <td>0.01</td>\n",
       "      <td>60.40</td>\n",
       "      <td>POINT (1.00289 41.29130)</td>\n",
       "    </tr>\n",
       "    <tr>\n",
       "      <th>2</th>\n",
       "      <td>2021</td>\n",
       "      <td>177</td>\n",
       "      <td>0.01</td>\n",
       "      <td>60.40</td>\n",
       "      <td>POINT (1.00289 41.29130)</td>\n",
       "    </tr>\n",
       "    <tr>\n",
       "      <th>3</th>\n",
       "      <td>2022</td>\n",
       "      <td>177</td>\n",
       "      <td>0.01</td>\n",
       "      <td>60.40</td>\n",
       "      <td>POINT (1.00289 41.29130)</td>\n",
       "    </tr>\n",
       "    <tr>\n",
       "      <th>4</th>\n",
       "      <td>2017</td>\n",
       "      <td>1782</td>\n",
       "      <td>0.05</td>\n",
       "      <td>86.86</td>\n",
       "      <td>POINT (1.41276 41.63550)</td>\n",
       "    </tr>\n",
       "    <tr>\n",
       "      <th>...</th>\n",
       "      <td>...</td>\n",
       "      <td>...</td>\n",
       "      <td>...</td>\n",
       "      <td>...</td>\n",
       "      <td>...</td>\n",
       "    </tr>\n",
       "    <tr>\n",
       "      <th>4292</th>\n",
       "      <td>2020</td>\n",
       "      <td>44</td>\n",
       "      <td>0.00</td>\n",
       "      <td>42.89</td>\n",
       "      <td>POINT (0.35365 41.15009)</td>\n",
       "    </tr>\n",
       "    <tr>\n",
       "      <th>4293</th>\n",
       "      <td>2021</td>\n",
       "      <td>44</td>\n",
       "      <td>0.00</td>\n",
       "      <td>42.89</td>\n",
       "      <td>POINT (0.35365 41.15009)</td>\n",
       "    </tr>\n",
       "    <tr>\n",
       "      <th>4294</th>\n",
       "      <td>2017</td>\n",
       "      <td>277</td>\n",
       "      <td>0.00</td>\n",
       "      <td>59.45</td>\n",
       "      <td>POINT (0.35365 41.15009)</td>\n",
       "    </tr>\n",
       "    <tr>\n",
       "      <th>4295</th>\n",
       "      <td>2018</td>\n",
       "      <td>277</td>\n",
       "      <td>0.00</td>\n",
       "      <td>59.45</td>\n",
       "      <td>POINT (0.35365 41.15009)</td>\n",
       "    </tr>\n",
       "    <tr>\n",
       "      <th>4296</th>\n",
       "      <td>2022</td>\n",
       "      <td>44</td>\n",
       "      <td>0.00</td>\n",
       "      <td>42.89</td>\n",
       "      <td>POINT (0.35365 41.15009)</td>\n",
       "    </tr>\n",
       "  </tbody>\n",
       "</table>\n",
       "<p>4297 rows × 5 columns</p>\n",
       "</div>"
      ],
      "text/plain": [
       "      Year  AADT  TR_pct_AADT   savg                  geometry\n",
       "0     2018   177         0.01  60.40  POINT (1.00289 41.29130)\n",
       "1     2020   177         0.01  60.40  POINT (1.00289 41.29130)\n",
       "2     2021   177         0.01  60.40  POINT (1.00289 41.29130)\n",
       "3     2022   177         0.01  60.40  POINT (1.00289 41.29130)\n",
       "4     2017  1782         0.05  86.86  POINT (1.41276 41.63550)\n",
       "...    ...   ...          ...    ...                       ...\n",
       "4292  2020    44         0.00  42.89  POINT (0.35365 41.15009)\n",
       "4293  2021    44         0.00  42.89  POINT (0.35365 41.15009)\n",
       "4294  2017   277         0.00  59.45  POINT (0.35365 41.15009)\n",
       "4295  2018   277         0.00  59.45  POINT (0.35365 41.15009)\n",
       "4296  2022    44         0.00  42.89  POINT (0.35365 41.15009)\n",
       "\n",
       "[4297 rows x 5 columns]"
      ]
     },
     "execution_count": 31,
     "metadata": {},
     "output_type": "execute_result"
    }
   ],
   "source": [
    "df"
   ]
  },
  {
   "cell_type": "code",
   "execution_count": 35,
   "metadata": {},
   "outputs": [],
   "source": [
    "#df[df.Year == 2022].explore('AADT', style_kwds = {'weight':6}, vmax = 25000)"
   ]
  }
 ],
 "metadata": {
  "kernelspec": {
   "display_name": "base",
   "language": "python",
   "name": "python3"
  },
  "language_info": {
   "codemirror_mode": {
    "name": "ipython",
    "version": 3
   },
   "file_extension": ".py",
   "mimetype": "text/x-python",
   "name": "python",
   "nbconvert_exporter": "python",
   "pygments_lexer": "ipython3",
   "version": "3.12.8"
  }
 },
 "nbformat": 4,
 "nbformat_minor": 2
}
